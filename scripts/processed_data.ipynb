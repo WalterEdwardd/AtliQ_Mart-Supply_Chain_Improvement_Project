{
 "cells": [
  {
   "cell_type": "markdown",
   "metadata": {},
   "source": [
    "# **Walter Ed.**\n",
    "# **Data Cleaning for AtliQ Mart_Supply Chain Improvement Project**"
   ]
  },
  {
   "cell_type": "markdown",
   "metadata": {},
   "source": [
    "## Purpose of the Notebook\n",
    "\n",
    "This notebook cleans the data to prepare it for analysis, ensuring the dataset is accurate, complete, and ready for the next steps."
   ]
  },
  {
   "cell_type": "markdown",
   "metadata": {},
   "source": [
    "## Data Overview\n",
    "### 1. \"dim_customers\" DataFrame\n",
    "**Key Details**: This dataset contains all the information about customers. There are 35 rows, 3 columns, and these variables: \n",
    "\n",
    "Variable    |   Description| \n",
    "-----|-----|\n",
    "customer_id|Unique ID is given to each customer\n",
    "customer_name|Name of the customer\n",
    "city|It is the city where the customer is present\n",
    "\n",
    "### 2. \"dim_products\" DataFrame\n",
    "**Key Details**: This dataset contains all the information about the products. There are 18 rows, 3 columns, and these variables: \n",
    "\n",
    "Variable    |   Description| \n",
    "-----|-----|\n",
    "product_name|It is the name of the product\n",
    "product_id|Unique ID is given to each of the products\n",
    "category|It is the class to which the product belongs\n",
    "\n",
    "### 3. \"dim_targets_orders\" DataFrame\n",
    "**Key Details**: This dataset contains all target data at the customer level. There are 35 rows, 4 columns, and these variables: \n",
    "\n",
    "Variable    |   Description| \n",
    "-----|-----|\n",
    "customer_id|Unique ID that is given to each of the customers\n",
    "ontime_target %|Target assigned for Ontime % for a given customer\n",
    "infull_target %|Target assigned for infull % for a given customer\n",
    "otif_target %|Target assigned for otif % for a given customer\n",
    "\n",
    "### 4. \"dim_date\" DataFrame\n",
    "**Key Details**: This dataset contains the dates at daily, monthly level and week numbers of the year. There are 183 rows, 3 columns, and these variables: \n",
    "\n",
    "Variable    |   Description| \n",
    "-----|-----|\n",
    "date|date at the daily level\n",
    "mmm_yy|date at the monthly level\n",
    "week_no|week number of the year as per the date column\n",
    "\n",
    "### 5. \"fact_order_lines\" DataFrame\n",
    "**Key Details**: This dataset contains information about OnTime, InFull and OnTime InFull information aggregated at the order level per customer. There are 31729 rows, 6 columns, and these variables: \n",
    "\n",
    "Variable    |   Description| \n",
    "-----|-----|\n",
    "order_id|Unique ID for each order the customer placed\n",
    "customer_id|Unique ID that is given to each of the customers\n",
    "order_placement_date|It is the date when the customer placed the order\n",
    "on_time|'1' denotes the order is delviered on time. '0' denotes the order is not delivered on time.\n",
    "in_full|'1' denotes the order is delviered in full quantity. '0' denotes the order is not delivered in full quantity.\n",
    "otif|'1' denotes the order is delviered both on time and in full quantity. '0' denotes the order is either not delivered on time or not in full quantity.\n",
    "\n",
    "### 6. \"fact_orders_aggregate\" DataFrame\n",
    "**Key Details**: This dataset contains all information about orders and each item inside the orders. There are 57096 rows, 8 columns, and these variables: \n",
    "\n",
    "Variable    |   Description| \n",
    "-----|-----|\n",
    "order_id|Unique ID for each order the customer placed\n",
    "order_placement_date|It is the date when the customer placed the order\n",
    "customer_id|Unique ID that is given to each of the customers\n",
    "product_id|Unique ID that is given to each of the products\n",
    "order_qty|It is the number of products requested by the customer to be delivered\n",
    "agreed_delivery_date|It is the date agreed between the customer and Atliq Mart to deliver the products\n",
    "actual_delivery_date|It is the actual date Atliq Mart delivered the product to the customer\n",
    "delivered_qty|It is the number of products that are actually delivered to the customer"
   ]
  },
  {
   "cell_type": "markdown",
   "metadata": {},
   "source": [
    "## Key Steps in the Data Cleaning Process\n",
    "\n",
    "1. Gather basic information about the data\n",
    "2. Rename columns:\n",
    "    - Standardize column names to snake_case format, correcting any that do not follow the convention.\n",
    "3. Gather descriptive statistics about the data\n",
    "4. Check Data Types\n",
    "Check data types and convert them to the correct format if necessary.\n",
    "5.\tClean Text Data\n",
    "    - Remove spaces at the beginning and end of the string\n",
    "    - Convert text to lowcase or uppercase, optional.\n",
    "6. Check Primary Key Columns\n",
    "    - Verify the integrity of primary keys to ensure uniqueness and prevent duplicates.\n",
    "7. Check Missing Values\n",
    "    - Check for null values and handle them appropriately.\n",
    "8. Check Duplicate Values\n",
    "    - Check for duplicate records and remove them if necessary.\n",
    "9. Check Unique Values\n",
    "10. Check Foreign Key Columns\n",
    "    - Check for foreign key integrity to ensure proper relationships between tables.\n",
    "11.\tCheck for Outliers\n",
    "    - Check for outliers and handle them appropriately.\n",
    "12. Data Validity Check\n",
    "    - Check the validity of the data to ensure it meets business rules and expected logic.\n",
    "13.\tSorting data"
   ]
  },
  {
   "cell_type": "markdown",
   "metadata": {},
   "source": [
    "## Expected Outcome\n",
    "\n",
    "Upon completion, the data will be in a consistent format, with no missing values or outliers, and ready for in-depth analysis.\n",
    "\n",
    "> **Note**: Detailed steps and explanations for the code are provided below.\n"
   ]
  },
  {
   "cell_type": "markdown",
   "metadata": {},
   "source": [
    "## Step 1. Imports\n",
    "\n",
    "*   Import packages\n",
    "*   Load dataset"
   ]
  },
  {
   "cell_type": "markdown",
   "metadata": {},
   "source": [
    "### Import Packages"
   ]
  },
  {
   "cell_type": "code",
   "execution_count": 1,
   "metadata": {},
   "outputs": [],
   "source": [
    "# Import packages\n",
    "## For data manipulation\n",
    "import numpy as np\n",
    "import pandas as pd\n",
    "## For date and time manipulation\n",
    "import datetime as dt\n",
    "## For data visualization\n",
    "import seaborn as sns\n",
    "import matplotlib.pyplot as plt\n",
    "%matplotlib inline\n",
    "# For displaying all of the columns in DataFrames\n",
    "pd.set_option('display.max_columns', None)"
   ]
  },
  {
   "cell_type": "markdown",
   "metadata": {},
   "source": [
    "### Load Data"
   ]
  },
  {
   "cell_type": "code",
   "execution_count": 2,
   "metadata": {},
   "outputs": [],
   "source": [
    "# Import dim_customer\n",
    "dim_customers = pd.read_csv(\"C:/Users/PC/Downloads/AtliQ_Mart-Supply_Chain_Improvement_Project/data/raw/dim_customers.csv\")\n",
    "# Import dim_date\n",
    "dim_date = pd.read_csv(\"C:/Users/PC/Downloads/AtliQ_Mart-Supply_Chain_Improvement_Project/data/raw/dim_date.csv\")\n",
    "# Import dim_products\n",
    "dim_products = pd.read_csv(\"C:/Users/PC/Downloads/AtliQ_Mart-Supply_Chain_Improvement_Project/data/raw/dim_products.csv\")\n",
    "# Import dim_targets_orders\n",
    "dim_targets_orders = pd.read_csv(\"C:/Users/PC/Downloads/AtliQ_Mart-Supply_Chain_Improvement_Project/data/raw/dim_targets_orders.csv\")\n",
    "# Import fact_order_lines\n",
    "fact_order_lines = pd.read_csv(\"C:/Users/PC/Downloads/AtliQ_Mart-Supply_Chain_Improvement_Project/data/raw/fact_order_lines.csv\")\n",
    "# Import fact_orders_aggregate\n",
    "fact_orders_aggregate = pd.read_csv(\"C:/Users/PC/Downloads/AtliQ_Mart-Supply_Chain_Improvement_Project/data/raw/fact_orders_aggregate.csv\")"
   ]
  },
  {
   "cell_type": "markdown",
   "metadata": {},
   "source": [
    "## Step 2. Data Exploration (Initial EDA and Data Cleaning)\n",
    "\n",
    "- Understand dataset and variables\n",
    "- Data Cleaning (Data Normalization)"
   ]
  },
  {
   "cell_type": "markdown",
   "metadata": {},
   "source": [
    "### \"dim_customers\" DataFrame\n",
    "This [dataset](link_git_hub) contains all the information about customers. There are 35 rows, 3 columns, and these variables: \n",
    "\n",
    "Variable    |   Description| \n",
    "-----|-----|\n",
    "customer_id|Unique ID is given to each customer\n",
    "customer_name|Name of the customer\n",
    "city|It is the city where the customer is present"
   ]
  },
  {
   "cell_type": "markdown",
   "metadata": {},
   "source": [
    "#### Gather Basic Information About The Data"
   ]
  },
  {
   "cell_type": "code",
   "execution_count": 3,
   "metadata": {},
   "outputs": [
    {
     "name": "stdout",
     "output_type": "stream",
     "text": [
      "<class 'pandas.core.frame.DataFrame'>\n",
      "RangeIndex: 35 entries, 0 to 34\n",
      "Data columns (total 3 columns):\n",
      " #   Column         Non-Null Count  Dtype \n",
      "---  ------         --------------  ----- \n",
      " 0   customer_id    35 non-null     int64 \n",
      " 1   customer_name  35 non-null     object\n",
      " 2   city           35 non-null     object\n",
      "dtypes: int64(1), object(2)\n",
      "memory usage: 972.0+ bytes\n"
     ]
    }
   ],
   "source": [
    "# gather basic information about the data\n",
    "dim_customers.info()"
   ]
  },
  {
   "cell_type": "code",
   "execution_count": 4,
   "metadata": {},
   "outputs": [
    {
     "data": {
      "text/html": [
       "<div>\n",
       "<style scoped>\n",
       "    .dataframe tbody tr th:only-of-type {\n",
       "        vertical-align: middle;\n",
       "    }\n",
       "\n",
       "    .dataframe tbody tr th {\n",
       "        vertical-align: top;\n",
       "    }\n",
       "\n",
       "    .dataframe thead th {\n",
       "        text-align: right;\n",
       "    }\n",
       "</style>\n",
       "<table border=\"1\" class=\"dataframe\">\n",
       "  <thead>\n",
       "    <tr style=\"text-align: right;\">\n",
       "      <th></th>\n",
       "      <th>customer_id</th>\n",
       "      <th>customer_name</th>\n",
       "      <th>city</th>\n",
       "    </tr>\n",
       "  </thead>\n",
       "  <tbody>\n",
       "    <tr>\n",
       "      <th>0</th>\n",
       "      <td>789201</td>\n",
       "      <td>Rel Fresh</td>\n",
       "      <td>Surat</td>\n",
       "    </tr>\n",
       "  </tbody>\n",
       "</table>\n",
       "</div>"
      ],
      "text/plain": [
       "   customer_id customer_name   city\n",
       "0       789201     Rel Fresh  Surat"
      ]
     },
     "execution_count": 4,
     "metadata": {},
     "output_type": "execute_result"
    }
   ],
   "source": [
    "# top records\n",
    "dim_customers.head(1)"
   ]
  },
  {
   "cell_type": "code",
   "execution_count": 5,
   "metadata": {},
   "outputs": [
    {
     "data": {
      "text/html": [
       "<div>\n",
       "<style scoped>\n",
       "    .dataframe tbody tr th:only-of-type {\n",
       "        vertical-align: middle;\n",
       "    }\n",
       "\n",
       "    .dataframe tbody tr th {\n",
       "        vertical-align: top;\n",
       "    }\n",
       "\n",
       "    .dataframe thead th {\n",
       "        text-align: right;\n",
       "    }\n",
       "</style>\n",
       "<table border=\"1\" class=\"dataframe\">\n",
       "  <thead>\n",
       "    <tr style=\"text-align: right;\">\n",
       "      <th></th>\n",
       "      <th>customer_id</th>\n",
       "      <th>customer_name</th>\n",
       "      <th>city</th>\n",
       "    </tr>\n",
       "  </thead>\n",
       "  <tbody>\n",
       "    <tr>\n",
       "      <th>34</th>\n",
       "      <td>789903</td>\n",
       "      <td>Elite Mart</td>\n",
       "      <td>Vadodara</td>\n",
       "    </tr>\n",
       "  </tbody>\n",
       "</table>\n",
       "</div>"
      ],
      "text/plain": [
       "    customer_id customer_name      city\n",
       "34       789903    Elite Mart  Vadodara"
      ]
     },
     "execution_count": 5,
     "metadata": {},
     "output_type": "execute_result"
    }
   ],
   "source": [
    "# last records\n",
    "dim_customers.tail(1)"
   ]
  },
  {
   "cell_type": "markdown",
   "metadata": {},
   "source": [
    "#### Rename Columns"
   ]
  },
  {
   "cell_type": "code",
   "execution_count": 6,
   "metadata": {},
   "outputs": [
    {
     "data": {
      "text/plain": [
       "Index(['customer_id', 'customer_name', 'city'], dtype='object')"
      ]
     },
     "execution_count": 6,
     "metadata": {},
     "output_type": "execute_result"
    }
   ],
   "source": [
    "# display all column names\n",
    "dim_customers.columns"
   ]
  },
  {
   "cell_type": "markdown",
   "metadata": {},
   "source": [
    "**Comment:**\n",
    "Column names are already standardized to `snake_case` and do not require further modification."
   ]
  },
  {
   "cell_type": "markdown",
   "metadata": {},
   "source": [
    "#### Gather Descriptive Statistics About The Data"
   ]
  },
  {
   "cell_type": "code",
   "execution_count": 7,
   "metadata": {},
   "outputs": [
    {
     "data": {
      "text/html": [
       "<div>\n",
       "<style scoped>\n",
       "    .dataframe tbody tr th:only-of-type {\n",
       "        vertical-align: middle;\n",
       "    }\n",
       "\n",
       "    .dataframe tbody tr th {\n",
       "        vertical-align: top;\n",
       "    }\n",
       "\n",
       "    .dataframe thead th {\n",
       "        text-align: right;\n",
       "    }\n",
       "</style>\n",
       "<table border=\"1\" class=\"dataframe\">\n",
       "  <thead>\n",
       "    <tr style=\"text-align: right;\">\n",
       "      <th></th>\n",
       "      <th>count</th>\n",
       "      <th>mean</th>\n",
       "      <th>std</th>\n",
       "      <th>min</th>\n",
       "      <th>25%</th>\n",
       "      <th>50%</th>\n",
       "      <th>75%</th>\n",
       "      <th>max</th>\n",
       "    </tr>\n",
       "  </thead>\n",
       "  <tbody>\n",
       "    <tr>\n",
       "      <th>customer_id</th>\n",
       "      <td>35.0</td>\n",
       "      <td>789427.857143</td>\n",
       "      <td>226.713105</td>\n",
       "      <td>789101.0</td>\n",
       "      <td>789220.5</td>\n",
       "      <td>789420.0</td>\n",
       "      <td>789602.0</td>\n",
       "      <td>789903.0</td>\n",
       "    </tr>\n",
       "  </tbody>\n",
       "</table>\n",
       "</div>"
      ],
      "text/plain": [
       "             count           mean         std       min       25%       50%  \\\n",
       "customer_id   35.0  789427.857143  226.713105  789101.0  789220.5  789420.0   \n",
       "\n",
       "                  75%       max  \n",
       "customer_id  789602.0  789903.0  "
      ]
     },
     "execution_count": 7,
     "metadata": {},
     "output_type": "execute_result"
    }
   ],
   "source": [
    "# gather descriptive statistics about the data\n",
    "dim_customers.describe().T"
   ]
  },
  {
   "cell_type": "markdown",
   "metadata": {},
   "source": [
    "#### Check Data Types"
   ]
  },
  {
   "cell_type": "code",
   "execution_count": 8,
   "metadata": {},
   "outputs": [
    {
     "data": {
      "text/plain": [
       "customer_id       int64\n",
       "customer_name    object\n",
       "city             object\n",
       "dtype: object"
      ]
     },
     "execution_count": 8,
     "metadata": {},
     "output_type": "execute_result"
    }
   ],
   "source": [
    "# check for datatypes\n",
    "dim_customers.dtypes"
   ]
  },
  {
   "cell_type": "markdown",
   "metadata": {},
   "source": [
    "**Comment:**\n",
    "All data types are correct; no modifications needed."
   ]
  },
  {
   "cell_type": "markdown",
   "metadata": {},
   "source": [
    "#### Clean Text Data"
   ]
  },
  {
   "cell_type": "code",
   "execution_count": 9,
   "metadata": {},
   "outputs": [],
   "source": [
    "# list of text columns to clean\n",
    "customer_text_list = dim_customers.select_dtypes(include='object').columns.tolist()\n",
    "\n",
    "# remove spaces at the beginning and end of the string\n",
    "dim_customers[customer_text_list] = dim_customers[customer_text_list].apply(lambda x: x.str.strip())\n",
    "\n",
    "# convert text to lowercase\n",
    "dim_customers[customer_text_list] = dim_customers[customer_text_list].apply(lambda x: x.str.lower())"
   ]
  },
  {
   "cell_type": "markdown",
   "metadata": {},
   "source": [
    "#### Check Primary Key Columns"
   ]
  },
  {
   "cell_type": "code",
   "execution_count": 10,
   "metadata": {},
   "outputs": [
    {
     "name": "stdout",
     "output_type": "stream",
     "text": [
      "The number of null values in the Key Identifier column is 0\n",
      "The number of duplicated values in the Key Identifier column is 0\n",
      "The number of unique values in the Key Identifier column is 35\n",
      "[789201 789202 789203 789301 789303 789101 789102 789103 789121 789122\n",
      " 789220 789221 789320 789321 789401 789402 789403 789420 789421 789422\n",
      " 789501 789503 789520 789521 789522 789601 789603 789702 789703 789621\n",
      " 789622 789720 789721 789902 789903]\n"
     ]
    }
   ],
   "source": [
    "# check the number of null values in the key identifier column\n",
    "print(f\"The number of null values in the Key Identifier column is {dim_customers['customer_id'].isnull().sum()}\")\n",
    "# check the number of duplicated values in the key identifier column\n",
    "print(f\"The number of duplicated values in the Key Identifier column is {dim_customers['customer_id'].duplicated().sum()}\")\n",
    "# Check the unique values in the Key Identifier column\n",
    "print(f\"The number of unique values in the Key Identifier column is {dim_customers['customer_id'].unique().shape[0]}\")\n",
    "print(f\"{dim_customers['customer_id'].unique()}\")"
   ]
  },
  {
   "cell_type": "markdown",
   "metadata": {},
   "source": [
    "**Comment:**\n",
    "Key Identifier is valid, no modifications required."
   ]
  },
  {
   "cell_type": "markdown",
   "metadata": {},
   "source": [
    "#### Check Missing Values"
   ]
  },
  {
   "cell_type": "code",
   "execution_count": 11,
   "metadata": {},
   "outputs": [
    {
     "data": {
      "text/plain": [
       "customer_id      0\n",
       "customer_name    0\n",
       "city             0\n",
       "dtype: int64"
      ]
     },
     "execution_count": 11,
     "metadata": {},
     "output_type": "execute_result"
    }
   ],
   "source": [
    "# check for missing values\n",
    "dim_customers.isnull().sum()"
   ]
  },
  {
   "cell_type": "markdown",
   "metadata": {},
   "source": [
    "**Comment:**\n",
    "No null values found in the column, all values are present."
   ]
  },
  {
   "cell_type": "markdown",
   "metadata": {},
   "source": [
    "#### Check Duplicate Values"
   ]
  },
  {
   "cell_type": "code",
   "execution_count": 12,
   "metadata": {},
   "outputs": [
    {
     "data": {
      "text/plain": [
       "0"
      ]
     },
     "execution_count": 12,
     "metadata": {},
     "output_type": "execute_result"
    }
   ],
   "source": [
    "# check for duplicates values\n",
    "dim_customers.duplicated().sum()"
   ]
  },
  {
   "cell_type": "markdown",
   "metadata": {},
   "source": [
    "**Comment:**\n",
    "No duplicate values found in the column, all entries are unique."
   ]
  },
  {
   "cell_type": "markdown",
   "metadata": {},
   "source": [
    "#### Check Unique Values"
   ]
  },
  {
   "cell_type": "code",
   "execution_count": 13,
   "metadata": {},
   "outputs": [
    {
     "data": {
      "text/plain": [
       "customer_id      35\n",
       "customer_name    15\n",
       "city              3\n",
       "dtype: int64"
      ]
     },
     "execution_count": 13,
     "metadata": {},
     "output_type": "execute_result"
    }
   ],
   "source": [
    "# check for unique values\n",
    "dim_customers.nunique()"
   ]
  },
  {
   "cell_type": "code",
   "execution_count": 14,
   "metadata": {},
   "outputs": [
    {
     "name": "stdout",
     "output_type": "stream",
     "text": [
      "The number of unique values in the column is 15\n",
      "['rel fresh' 'expression stores' 'vijay stores' 'coolblue' 'atlas stores'\n",
      " 'chiptec stores' 'propel mart' 'lotus mart' 'viveks stores'\n",
      " 'acclaimed stores' 'info stores' 'sorefoz mart' 'expert mart'\n",
      " 'logic stores' 'elite mart']\n"
     ]
    }
   ],
   "source": [
    "# check unique values in the column\n",
    "print(f\"The number of unique values in the column is {dim_customers['customer_name'].unique().shape[0]}\")\n",
    "print(f\"{dim_customers['customer_name'].unique()}\")"
   ]
  },
  {
   "cell_type": "code",
   "execution_count": 15,
   "metadata": {},
   "outputs": [
    {
     "name": "stdout",
     "output_type": "stream",
     "text": [
      "The number of unique values in the column is 3\n",
      "['surat' 'ahmedabad' 'vadodara']\n"
     ]
    }
   ],
   "source": [
    "# check unique values in the column\n",
    "print(f\"The number of unique values in the column is {dim_customers['city'].unique().shape[0]}\")\n",
    "print(f\"{dim_customers['city'].unique()}\")"
   ]
  },
  {
   "cell_type": "markdown",
   "metadata": {},
   "source": [
    "#### Sort Data\n",
    "After cleaning your data, sorting is essential for easier analysis."
   ]
  },
  {
   "cell_type": "code",
   "execution_count": 16,
   "metadata": {},
   "outputs": [],
   "source": [
    "# Sort the DataFrame by the specified column\n",
    "dim_customers = dim_customers.sort_values(by=['customer_id'], ascending=True).reset_index(drop=True)"
   ]
  },
  {
   "cell_type": "markdown",
   "metadata": {},
   "source": [
    "### \"dim_products\" DataFrame\n",
    "This [dataset](link_git_hub) contains all the information about the products. There are 18 rows, 3 columns, and these variables: \n",
    "\n",
    "Variable    |   Description| \n",
    "-----|-----|\n",
    "product_name|It is the name of the product\n",
    "product_id|Unique ID is given to each of the products\n",
    "category|It is the class to which the product belongs"
   ]
  },
  {
   "cell_type": "markdown",
   "metadata": {},
   "source": [
    "#### Gather Basic Information About The Data"
   ]
  },
  {
   "cell_type": "code",
   "execution_count": 17,
   "metadata": {},
   "outputs": [
    {
     "name": "stdout",
     "output_type": "stream",
     "text": [
      "<class 'pandas.core.frame.DataFrame'>\n",
      "RangeIndex: 18 entries, 0 to 17\n",
      "Data columns (total 3 columns):\n",
      " #   Column        Non-Null Count  Dtype \n",
      "---  ------        --------------  ----- \n",
      " 0   product_name  18 non-null     object\n",
      " 1   product_id    18 non-null     int64 \n",
      " 2   category      18 non-null     object\n",
      "dtypes: int64(1), object(2)\n",
      "memory usage: 564.0+ bytes\n"
     ]
    }
   ],
   "source": [
    "# gather basic information about the data\n",
    "dim_products.info()"
   ]
  },
  {
   "cell_type": "code",
   "execution_count": 18,
   "metadata": {},
   "outputs": [
    {
     "data": {
      "text/html": [
       "<div>\n",
       "<style scoped>\n",
       "    .dataframe tbody tr th:only-of-type {\n",
       "        vertical-align: middle;\n",
       "    }\n",
       "\n",
       "    .dataframe tbody tr th {\n",
       "        vertical-align: top;\n",
       "    }\n",
       "\n",
       "    .dataframe thead th {\n",
       "        text-align: right;\n",
       "    }\n",
       "</style>\n",
       "<table border=\"1\" class=\"dataframe\">\n",
       "  <thead>\n",
       "    <tr style=\"text-align: right;\">\n",
       "      <th></th>\n",
       "      <th>product_name</th>\n",
       "      <th>product_id</th>\n",
       "      <th>category</th>\n",
       "    </tr>\n",
       "  </thead>\n",
       "  <tbody>\n",
       "    <tr>\n",
       "      <th>0</th>\n",
       "      <td>AM Milk 500</td>\n",
       "      <td>25891101</td>\n",
       "      <td>Dairy</td>\n",
       "    </tr>\n",
       "  </tbody>\n",
       "</table>\n",
       "</div>"
      ],
      "text/plain": [
       "  product_name  product_id category\n",
       "0  AM Milk 500    25891101    Dairy"
      ]
     },
     "execution_count": 18,
     "metadata": {},
     "output_type": "execute_result"
    }
   ],
   "source": [
    "# top records\n",
    "dim_products.head(1)"
   ]
  },
  {
   "cell_type": "code",
   "execution_count": 19,
   "metadata": {},
   "outputs": [
    {
     "data": {
      "text/html": [
       "<div>\n",
       "<style scoped>\n",
       "    .dataframe tbody tr th:only-of-type {\n",
       "        vertical-align: middle;\n",
       "    }\n",
       "\n",
       "    .dataframe tbody tr th {\n",
       "        vertical-align: top;\n",
       "    }\n",
       "\n",
       "    .dataframe thead th {\n",
       "        text-align: right;\n",
       "    }\n",
       "</style>\n",
       "<table border=\"1\" class=\"dataframe\">\n",
       "  <thead>\n",
       "    <tr style=\"text-align: right;\">\n",
       "      <th></th>\n",
       "      <th>product_name</th>\n",
       "      <th>product_id</th>\n",
       "      <th>category</th>\n",
       "    </tr>\n",
       "  </thead>\n",
       "  <tbody>\n",
       "    <tr>\n",
       "      <th>17</th>\n",
       "      <td>AM Tea 100</td>\n",
       "      <td>25891603</td>\n",
       "      <td>Beverages</td>\n",
       "    </tr>\n",
       "  </tbody>\n",
       "</table>\n",
       "</div>"
      ],
      "text/plain": [
       "   product_name  product_id   category\n",
       "17   AM Tea 100    25891603  Beverages"
      ]
     },
     "execution_count": 19,
     "metadata": {},
     "output_type": "execute_result"
    }
   ],
   "source": [
    "# last records\n",
    "dim_products.tail(1)"
   ]
  },
  {
   "cell_type": "markdown",
   "metadata": {},
   "source": [
    "#### Rename Columns"
   ]
  },
  {
   "cell_type": "code",
   "execution_count": 20,
   "metadata": {},
   "outputs": [
    {
     "data": {
      "text/plain": [
       "Index(['product_name', 'product_id', 'category'], dtype='object')"
      ]
     },
     "execution_count": 20,
     "metadata": {},
     "output_type": "execute_result"
    }
   ],
   "source": [
    "# display all column names\n",
    "dim_products.columns"
   ]
  },
  {
   "cell_type": "markdown",
   "metadata": {},
   "source": [
    "**Comment:**\n",
    "Column names are already standardized to `snake_case` and do not require further modification."
   ]
  },
  {
   "cell_type": "markdown",
   "metadata": {},
   "source": [
    "#### Gather Descriptive Statistics About The Data"
   ]
  },
  {
   "cell_type": "code",
   "execution_count": 21,
   "metadata": {},
   "outputs": [
    {
     "data": {
      "text/html": [
       "<div>\n",
       "<style scoped>\n",
       "    .dataframe tbody tr th:only-of-type {\n",
       "        vertical-align: middle;\n",
       "    }\n",
       "\n",
       "    .dataframe tbody tr th {\n",
       "        vertical-align: top;\n",
       "    }\n",
       "\n",
       "    .dataframe thead th {\n",
       "        text-align: right;\n",
       "    }\n",
       "</style>\n",
       "<table border=\"1\" class=\"dataframe\">\n",
       "  <thead>\n",
       "    <tr style=\"text-align: right;\">\n",
       "      <th></th>\n",
       "      <th>count</th>\n",
       "      <th>mean</th>\n",
       "      <th>std</th>\n",
       "      <th>min</th>\n",
       "      <th>25%</th>\n",
       "      <th>50%</th>\n",
       "      <th>75%</th>\n",
       "      <th>max</th>\n",
       "    </tr>\n",
       "  </thead>\n",
       "  <tbody>\n",
       "    <tr>\n",
       "      <th>product_id</th>\n",
       "      <td>18.0</td>\n",
       "      <td>25891352.0</td>\n",
       "      <td>175.735764</td>\n",
       "      <td>25891101.0</td>\n",
       "      <td>25891202.25</td>\n",
       "      <td>25891352.0</td>\n",
       "      <td>25891501.75</td>\n",
       "      <td>25891603.0</td>\n",
       "    </tr>\n",
       "  </tbody>\n",
       "</table>\n",
       "</div>"
      ],
      "text/plain": [
       "            count        mean         std         min          25%  \\\n",
       "product_id   18.0  25891352.0  175.735764  25891101.0  25891202.25   \n",
       "\n",
       "                   50%          75%         max  \n",
       "product_id  25891352.0  25891501.75  25891603.0  "
      ]
     },
     "execution_count": 21,
     "metadata": {},
     "output_type": "execute_result"
    }
   ],
   "source": [
    "# gather descriptive statistics about the data\n",
    "dim_products.describe().T"
   ]
  },
  {
   "cell_type": "markdown",
   "metadata": {},
   "source": [
    "#### Check Data Types"
   ]
  },
  {
   "cell_type": "code",
   "execution_count": 22,
   "metadata": {},
   "outputs": [
    {
     "data": {
      "text/plain": [
       "product_name    object\n",
       "product_id       int64\n",
       "category        object\n",
       "dtype: object"
      ]
     },
     "execution_count": 22,
     "metadata": {},
     "output_type": "execute_result"
    }
   ],
   "source": [
    "# check for datatypes\n",
    "dim_products.dtypes"
   ]
  },
  {
   "cell_type": "markdown",
   "metadata": {},
   "source": [
    "**Comment:**\n",
    "All data types are correct; no modifications needed."
   ]
  },
  {
   "cell_type": "markdown",
   "metadata": {},
   "source": [
    "#### Clean Text Data"
   ]
  },
  {
   "cell_type": "code",
   "execution_count": 23,
   "metadata": {},
   "outputs": [],
   "source": [
    "# list of text columns to clean\n",
    "product_text_list = dim_products.select_dtypes(include='object').columns.tolist()\n",
    "\n",
    "# remove spaces at the beginning and end of the string\n",
    "dim_products[product_text_list] = dim_products[product_text_list].apply(lambda x: x.str.strip())\n",
    "\n",
    "# convert text to lowercase\n",
    "dim_products[product_text_list] = dim_products[product_text_list].apply(lambda x: x.str.lower())"
   ]
  },
  {
   "cell_type": "markdown",
   "metadata": {},
   "source": [
    "#### Check Primary Key Columns"
   ]
  },
  {
   "cell_type": "code",
   "execution_count": 24,
   "metadata": {},
   "outputs": [
    {
     "name": "stdout",
     "output_type": "stream",
     "text": [
      "The number of null values in the Key Identifier column is 0\n",
      "The number of duplicated values in the Key Identifier column is 0\n",
      "The number of unique values in the Key Identifier column is 18\n",
      "[25891101 25891102 25891103 25891201 25891202 25891203 25891301 25891302\n",
      " 25891303 25891401 25891402 25891403 25891501 25891502 25891503 25891601\n",
      " 25891602 25891603]\n"
     ]
    }
   ],
   "source": [
    "# check the number of null values in the key identifier column\n",
    "print(f\"The number of null values in the Key Identifier column is {dim_products['product_id'].isnull().sum()}\")\n",
    "# check the number of duplicated values in the key identifier column\n",
    "print(f\"The number of duplicated values in the Key Identifier column is {dim_products['product_id'].duplicated().sum()}\")\n",
    "# Check the unique values in the Key Identifier column\n",
    "print(f\"The number of unique values in the Key Identifier column is {dim_products['product_id'].unique().shape[0]}\")\n",
    "print(f\"{dim_products['product_id'].unique()}\")"
   ]
  },
  {
   "cell_type": "markdown",
   "metadata": {},
   "source": [
    "**Comment:**\n",
    "Key Identifier is valid, no modifications required."
   ]
  },
  {
   "cell_type": "markdown",
   "metadata": {},
   "source": [
    "#### Check Missing Values"
   ]
  },
  {
   "cell_type": "code",
   "execution_count": 25,
   "metadata": {},
   "outputs": [
    {
     "data": {
      "text/plain": [
       "product_name    0\n",
       "product_id      0\n",
       "category        0\n",
       "dtype: int64"
      ]
     },
     "execution_count": 25,
     "metadata": {},
     "output_type": "execute_result"
    }
   ],
   "source": [
    "# check for missing values\n",
    "dim_products.isnull().sum()"
   ]
  },
  {
   "cell_type": "markdown",
   "metadata": {},
   "source": [
    "**Comment:**\n",
    "No null values found in the column, all values are present."
   ]
  },
  {
   "cell_type": "markdown",
   "metadata": {},
   "source": [
    "#### Check Duplicate Values"
   ]
  },
  {
   "cell_type": "code",
   "execution_count": 26,
   "metadata": {},
   "outputs": [
    {
     "data": {
      "text/plain": [
       "0"
      ]
     },
     "execution_count": 26,
     "metadata": {},
     "output_type": "execute_result"
    }
   ],
   "source": [
    "# check for duplicates values\n",
    "dim_products.duplicated().sum()"
   ]
  },
  {
   "cell_type": "markdown",
   "metadata": {},
   "source": [
    "**Comment:**\n",
    "No duplicate values found in the column, all entries are unique."
   ]
  },
  {
   "cell_type": "markdown",
   "metadata": {},
   "source": [
    "#### Check Unique Values"
   ]
  },
  {
   "cell_type": "code",
   "execution_count": 27,
   "metadata": {},
   "outputs": [
    {
     "data": {
      "text/plain": [
       "product_name    18\n",
       "product_id      18\n",
       "category         3\n",
       "dtype: int64"
      ]
     },
     "execution_count": 27,
     "metadata": {},
     "output_type": "execute_result"
    }
   ],
   "source": [
    "# check for unique values\n",
    "dim_products.nunique()"
   ]
  },
  {
   "cell_type": "code",
   "execution_count": 28,
   "metadata": {},
   "outputs": [
    {
     "name": "stdout",
     "output_type": "stream",
     "text": [
      "The number of unique values in the column is 18\n",
      "['am milk 500' 'am milk 250' 'am milk 100' 'am butter 100' 'am butter 250'\n",
      " 'am butter 500' 'am ghee 250' 'am ghee 150' 'am ghee 100' 'am curd 250'\n",
      " 'am curd 100' 'am curd 50' 'am biscuits 750' 'am biscuits 500'\n",
      " 'am biscuits 250' 'am tea 500' 'am tea 250' 'am tea 100']\n"
     ]
    }
   ],
   "source": [
    "# check unique values in the column\n",
    "print(f\"The number of unique values in the column is {dim_products['product_name'].unique().shape[0]}\")\n",
    "print(f\"{dim_products['product_name'].unique()}\")"
   ]
  },
  {
   "cell_type": "code",
   "execution_count": 29,
   "metadata": {},
   "outputs": [
    {
     "name": "stdout",
     "output_type": "stream",
     "text": [
      "The number of unique values in the column is 3\n",
      "['dairy' 'food' 'beverages']\n"
     ]
    }
   ],
   "source": [
    "# check unique values in the column\n",
    "print(f\"The number of unique values in the column is {dim_products['category'].unique().shape[0]}\")\n",
    "print(f\"{dim_products['category'].unique()}\")"
   ]
  },
  {
   "cell_type": "markdown",
   "metadata": {},
   "source": [
    "#### Sort Data\n",
    "After cleaning your data, sorting is essential for easier analysis."
   ]
  },
  {
   "cell_type": "code",
   "execution_count": 30,
   "metadata": {},
   "outputs": [],
   "source": [
    "# Sort the DataFrame by the specified column\n",
    "dim_products = dim_products.sort_values(by=['product_id'], ascending=True).reset_index(drop=True)"
   ]
  },
  {
   "cell_type": "markdown",
   "metadata": {},
   "source": [
    "### \"dim_targets_orders\" DataFrame\n",
    "This [dataset](link_git_hub) contains all target data at the customer level. There are 35 rows, 4 columns, and these variables: \n",
    "\n",
    "Variable    |   Description| \n",
    "-----|-----|\n",
    "customer_id|Unique ID that is given to each of the customers\n",
    "ontime_target %|Target assigned for Ontime % for a given customer\n",
    "infull_target %|Target assigned for infull % for a given customer\n",
    "otif_target %|Target assigned for otif % for a given customer"
   ]
  },
  {
   "cell_type": "markdown",
   "metadata": {},
   "source": [
    "#### Gather Basic Information About The Data"
   ]
  },
  {
   "cell_type": "code",
   "execution_count": 31,
   "metadata": {},
   "outputs": [
    {
     "name": "stdout",
     "output_type": "stream",
     "text": [
      "<class 'pandas.core.frame.DataFrame'>\n",
      "RangeIndex: 35 entries, 0 to 34\n",
      "Data columns (total 4 columns):\n",
      " #   Column          Non-Null Count  Dtype\n",
      "---  ------          --------------  -----\n",
      " 0   customer_id     35 non-null     int64\n",
      " 1   ontime_target%  35 non-null     int64\n",
      " 2   infull_target%  35 non-null     int64\n",
      " 3   otif_target%    35 non-null     int64\n",
      "dtypes: int64(4)\n",
      "memory usage: 1.2 KB\n"
     ]
    }
   ],
   "source": [
    "# gather basic information about the data\n",
    "dim_targets_orders.info()"
   ]
  },
  {
   "cell_type": "code",
   "execution_count": 32,
   "metadata": {},
   "outputs": [
    {
     "data": {
      "text/html": [
       "<div>\n",
       "<style scoped>\n",
       "    .dataframe tbody tr th:only-of-type {\n",
       "        vertical-align: middle;\n",
       "    }\n",
       "\n",
       "    .dataframe tbody tr th {\n",
       "        vertical-align: top;\n",
       "    }\n",
       "\n",
       "    .dataframe thead th {\n",
       "        text-align: right;\n",
       "    }\n",
       "</style>\n",
       "<table border=\"1\" class=\"dataframe\">\n",
       "  <thead>\n",
       "    <tr style=\"text-align: right;\">\n",
       "      <th></th>\n",
       "      <th>customer_id</th>\n",
       "      <th>ontime_target%</th>\n",
       "      <th>infull_target%</th>\n",
       "      <th>otif_target%</th>\n",
       "    </tr>\n",
       "  </thead>\n",
       "  <tbody>\n",
       "    <tr>\n",
       "      <th>0</th>\n",
       "      <td>789201</td>\n",
       "      <td>87</td>\n",
       "      <td>81</td>\n",
       "      <td>70</td>\n",
       "    </tr>\n",
       "  </tbody>\n",
       "</table>\n",
       "</div>"
      ],
      "text/plain": [
       "   customer_id  ontime_target%  infull_target%  otif_target%\n",
       "0       789201              87              81            70"
      ]
     },
     "execution_count": 32,
     "metadata": {},
     "output_type": "execute_result"
    }
   ],
   "source": [
    "# top records\n",
    "dim_targets_orders.head(1)"
   ]
  },
  {
   "cell_type": "code",
   "execution_count": 33,
   "metadata": {},
   "outputs": [
    {
     "data": {
      "text/html": [
       "<div>\n",
       "<style scoped>\n",
       "    .dataframe tbody tr th:only-of-type {\n",
       "        vertical-align: middle;\n",
       "    }\n",
       "\n",
       "    .dataframe tbody tr th {\n",
       "        vertical-align: top;\n",
       "    }\n",
       "\n",
       "    .dataframe thead th {\n",
       "        text-align: right;\n",
       "    }\n",
       "</style>\n",
       "<table border=\"1\" class=\"dataframe\">\n",
       "  <thead>\n",
       "    <tr style=\"text-align: right;\">\n",
       "      <th></th>\n",
       "      <th>customer_id</th>\n",
       "      <th>ontime_target%</th>\n",
       "      <th>infull_target%</th>\n",
       "      <th>otif_target%</th>\n",
       "    </tr>\n",
       "  </thead>\n",
       "  <tbody>\n",
       "    <tr>\n",
       "      <th>34</th>\n",
       "      <td>789903</td>\n",
       "      <td>92</td>\n",
       "      <td>65</td>\n",
       "      <td>60</td>\n",
       "    </tr>\n",
       "  </tbody>\n",
       "</table>\n",
       "</div>"
      ],
      "text/plain": [
       "    customer_id  ontime_target%  infull_target%  otif_target%\n",
       "34       789903              92              65            60"
      ]
     },
     "execution_count": 33,
     "metadata": {},
     "output_type": "execute_result"
    }
   ],
   "source": [
    "# last records\n",
    "dim_targets_orders.tail(1)"
   ]
  },
  {
   "cell_type": "markdown",
   "metadata": {},
   "source": [
    "#### Rename Columns"
   ]
  },
  {
   "cell_type": "code",
   "execution_count": 34,
   "metadata": {},
   "outputs": [
    {
     "data": {
      "text/plain": [
       "Index(['customer_id', 'ontime_target%', 'infull_target%', 'otif_target%'], dtype='object')"
      ]
     },
     "execution_count": 34,
     "metadata": {},
     "output_type": "execute_result"
    }
   ],
   "source": [
    "# display all column names\n",
    "dim_targets_orders.columns"
   ]
  },
  {
   "cell_type": "code",
   "execution_count": 35,
   "metadata": {},
   "outputs": [
    {
     "data": {
      "text/plain": [
       "Index(['customer_id', 'ot_target_pct', 'if_target_pct', 'otif_target_pct'], dtype='object')"
      ]
     },
     "execution_count": 35,
     "metadata": {},
     "output_type": "execute_result"
    }
   ],
   "source": [
    "# Rename columns as needed\n",
    "dim_targets_orders.rename(columns={\n",
    "    'ontime_target%':'ot_target_pct',\n",
    "    'infull_target%':'if_target_pct',\n",
    "    'otif_target%':'otif_target_pct',\n",
    "}, inplace=True)\n",
    "# Display all column names after the update\n",
    "dim_targets_orders.columns"
   ]
  },
  {
   "cell_type": "markdown",
   "metadata": {},
   "source": [
    "#### Gather Descriptive Statistics About The Data"
   ]
  },
  {
   "cell_type": "code",
   "execution_count": 36,
   "metadata": {},
   "outputs": [
    {
     "data": {
      "text/html": [
       "<div>\n",
       "<style scoped>\n",
       "    .dataframe tbody tr th:only-of-type {\n",
       "        vertical-align: middle;\n",
       "    }\n",
       "\n",
       "    .dataframe tbody tr th {\n",
       "        vertical-align: top;\n",
       "    }\n",
       "\n",
       "    .dataframe thead th {\n",
       "        text-align: right;\n",
       "    }\n",
       "</style>\n",
       "<table border=\"1\" class=\"dataframe\">\n",
       "  <thead>\n",
       "    <tr style=\"text-align: right;\">\n",
       "      <th></th>\n",
       "      <th>count</th>\n",
       "      <th>mean</th>\n",
       "      <th>std</th>\n",
       "      <th>min</th>\n",
       "      <th>25%</th>\n",
       "      <th>50%</th>\n",
       "      <th>75%</th>\n",
       "      <th>max</th>\n",
       "    </tr>\n",
       "  </thead>\n",
       "  <tbody>\n",
       "    <tr>\n",
       "      <th>customer_id</th>\n",
       "      <td>35.0</td>\n",
       "      <td>789427.857143</td>\n",
       "      <td>226.713105</td>\n",
       "      <td>789101.0</td>\n",
       "      <td>789220.5</td>\n",
       "      <td>789420.0</td>\n",
       "      <td>789602.0</td>\n",
       "      <td>789903.0</td>\n",
       "    </tr>\n",
       "    <tr>\n",
       "      <th>ot_target_pct</th>\n",
       "      <td>35.0</td>\n",
       "      <td>86.085714</td>\n",
       "      <td>5.632737</td>\n",
       "      <td>75.0</td>\n",
       "      <td>85.0</td>\n",
       "      <td>87.0</td>\n",
       "      <td>90.5</td>\n",
       "      <td>92.0</td>\n",
       "    </tr>\n",
       "    <tr>\n",
       "      <th>if_target_pct</th>\n",
       "      <td>35.0</td>\n",
       "      <td>76.514286</td>\n",
       "      <td>5.500649</td>\n",
       "      <td>65.0</td>\n",
       "      <td>75.5</td>\n",
       "      <td>79.0</td>\n",
       "      <td>80.5</td>\n",
       "      <td>82.0</td>\n",
       "    </tr>\n",
       "    <tr>\n",
       "      <th>otif_target_pct</th>\n",
       "      <td>35.0</td>\n",
       "      <td>65.914286</td>\n",
       "      <td>6.621584</td>\n",
       "      <td>49.0</td>\n",
       "      <td>62.0</td>\n",
       "      <td>68.0</td>\n",
       "      <td>70.0</td>\n",
       "      <td>75.0</td>\n",
       "    </tr>\n",
       "  </tbody>\n",
       "</table>\n",
       "</div>"
      ],
      "text/plain": [
       "                 count           mean         std       min       25%  \\\n",
       "customer_id       35.0  789427.857143  226.713105  789101.0  789220.5   \n",
       "ot_target_pct     35.0      86.085714    5.632737      75.0      85.0   \n",
       "if_target_pct     35.0      76.514286    5.500649      65.0      75.5   \n",
       "otif_target_pct   35.0      65.914286    6.621584      49.0      62.0   \n",
       "\n",
       "                      50%       75%       max  \n",
       "customer_id      789420.0  789602.0  789903.0  \n",
       "ot_target_pct        87.0      90.5      92.0  \n",
       "if_target_pct        79.0      80.5      82.0  \n",
       "otif_target_pct      68.0      70.0      75.0  "
      ]
     },
     "execution_count": 36,
     "metadata": {},
     "output_type": "execute_result"
    }
   ],
   "source": [
    "# gather descriptive statistics about the data\n",
    "dim_targets_orders.describe().T"
   ]
  },
  {
   "cell_type": "markdown",
   "metadata": {},
   "source": [
    "#### Check Data Types"
   ]
  },
  {
   "cell_type": "code",
   "execution_count": 37,
   "metadata": {},
   "outputs": [
    {
     "data": {
      "text/plain": [
       "customer_id        int64\n",
       "ot_target_pct      int64\n",
       "if_target_pct      int64\n",
       "otif_target_pct    int64\n",
       "dtype: object"
      ]
     },
     "execution_count": 37,
     "metadata": {},
     "output_type": "execute_result"
    }
   ],
   "source": [
    "# check for datatypes\n",
    "dim_targets_orders.dtypes"
   ]
  },
  {
   "cell_type": "markdown",
   "metadata": {},
   "source": [
    "**Comment:**\n",
    "All data types are correct; no modifications needed."
   ]
  },
  {
   "cell_type": "markdown",
   "metadata": {},
   "source": [
    "#### Check Primary Key Columns"
   ]
  },
  {
   "cell_type": "code",
   "execution_count": 38,
   "metadata": {},
   "outputs": [
    {
     "name": "stdout",
     "output_type": "stream",
     "text": [
      "The number of null values in the Key Identifier column is 0\n",
      "The number of duplicated values in the Key Identifier column is 0\n",
      "The number of unique values in the Key Identifier column is 35\n",
      "[789201 789202 789203 789301 789303 789101 789102 789103 789121 789122\n",
      " 789220 789221 789320 789321 789401 789402 789403 789420 789421 789422\n",
      " 789501 789503 789520 789521 789522 789601 789603 789702 789703 789621\n",
      " 789622 789720 789721 789902 789903]\n"
     ]
    }
   ],
   "source": [
    "# check the number of null values in the key identifier column\n",
    "print(f\"The number of null values in the Key Identifier column is {dim_targets_orders['customer_id'].isnull().sum()}\")\n",
    "# check the number of duplicated values in the key identifier column\n",
    "print(f\"The number of duplicated values in the Key Identifier column is {dim_targets_orders['customer_id'].duplicated().sum()}\")\n",
    "# Check the unique values in the Key Identifier column\n",
    "print(f\"The number of unique values in the Key Identifier column is {dim_targets_orders['customer_id'].unique().shape[0]}\")\n",
    "print(f\"{dim_targets_orders['customer_id'].unique()}\")"
   ]
  },
  {
   "cell_type": "markdown",
   "metadata": {},
   "source": [
    "**Comment:**\n",
    "Key Identifier is valid, no modifications required."
   ]
  },
  {
   "cell_type": "markdown",
   "metadata": {},
   "source": [
    "#### Check Missing Values"
   ]
  },
  {
   "cell_type": "code",
   "execution_count": 39,
   "metadata": {},
   "outputs": [
    {
     "data": {
      "text/plain": [
       "customer_id        0\n",
       "ot_target_pct      0\n",
       "if_target_pct      0\n",
       "otif_target_pct    0\n",
       "dtype: int64"
      ]
     },
     "execution_count": 39,
     "metadata": {},
     "output_type": "execute_result"
    }
   ],
   "source": [
    "# check for missing values\n",
    "dim_targets_orders.isnull().sum()"
   ]
  },
  {
   "cell_type": "markdown",
   "metadata": {},
   "source": [
    "**Comment:**\n",
    "No null values found in the column, all values are present."
   ]
  },
  {
   "cell_type": "markdown",
   "metadata": {},
   "source": [
    "#### Check Duplicate Values"
   ]
  },
  {
   "cell_type": "code",
   "execution_count": 40,
   "metadata": {},
   "outputs": [
    {
     "data": {
      "text/plain": [
       "0"
      ]
     },
     "execution_count": 40,
     "metadata": {},
     "output_type": "execute_result"
    }
   ],
   "source": [
    "# check for duplicates values\n",
    "dim_targets_orders.duplicated().sum()"
   ]
  },
  {
   "cell_type": "markdown",
   "metadata": {},
   "source": [
    "**Comment:**\n",
    "No duplicate values found in the column, all entries are unique."
   ]
  },
  {
   "cell_type": "markdown",
   "metadata": {},
   "source": [
    "#### Check Unique Values"
   ]
  },
  {
   "cell_type": "code",
   "execution_count": 41,
   "metadata": {},
   "outputs": [
    {
     "data": {
      "text/plain": [
       "customer_id        35\n",
       "ot_target_pct      12\n",
       "if_target_pct      12\n",
       "otif_target_pct    15\n",
       "dtype: int64"
      ]
     },
     "execution_count": 41,
     "metadata": {},
     "output_type": "execute_result"
    }
   ],
   "source": [
    "# check for unique values\n",
    "dim_targets_orders.nunique()"
   ]
  },
  {
   "cell_type": "code",
   "execution_count": 42,
   "metadata": {},
   "outputs": [
    {
     "name": "stdout",
     "output_type": "stream",
     "text": [
      "The number of unique values in the column is 12\n",
      "[87 85 92 89 88 86 90 78 76 91 75 79]\n"
     ]
    }
   ],
   "source": [
    "# check unique values in the column\n",
    "print(f\"The number of unique values in the column is {dim_targets_orders['ot_target_pct'].unique().shape[0]}\")\n",
    "print(f\"{dim_targets_orders['ot_target_pct'].unique()}\")"
   ]
  },
  {
   "cell_type": "code",
   "execution_count": 43,
   "metadata": {},
   "outputs": [
    {
     "name": "stdout",
     "output_type": "stream",
     "text": [
      "The number of unique values in the column is 12\n",
      "[81 76 78 80 67 77 65 79 66 82 68 75]\n"
     ]
    }
   ],
   "source": [
    "# check unique values in the column\n",
    "print(f\"The number of unique values in the column is {dim_targets_orders['if_target_pct'].unique().shape[0]}\")\n",
    "print(f\"{dim_targets_orders['if_target_pct'].unique()}\")"
   ]
  },
  {
   "cell_type": "code",
   "execution_count": 44,
   "metadata": {},
   "outputs": [
    {
     "name": "stdout",
     "output_type": "stream",
     "text": [
      "The number of unique values in the column is 15\n",
      "[70 69 73 62 60 49 68 74 67 71 59 51 64 66 75]\n"
     ]
    }
   ],
   "source": [
    "# check unique values in the column\n",
    "print(f\"The number of unique values in the column is {dim_targets_orders['otif_target_pct'].unique().shape[0]}\")\n",
    "print(f\"{dim_targets_orders['otif_target_pct'].unique()}\")"
   ]
  },
  {
   "cell_type": "markdown",
   "metadata": {},
   "source": [
    "#### Check Foreign Key Columns"
   ]
  },
  {
   "cell_type": "code",
   "execution_count": 45,
   "metadata": {},
   "outputs": [
    {
     "name": "stdout",
     "output_type": "stream",
     "text": [
      "Number of unique customer IDs only in dim_customer: 0\n",
      "set()\n",
      "Number of unique customer IDs only in dim_targets_orders: 0\n",
      "set()\n",
      "Total customers in dim_customers: 35\n",
      "The number of unique customers in dim_customers: [789101 789102 789103 789121 789122 789201 789202 789203 789220 789221\n",
      " 789301 789303 789320 789321 789401 789402 789403 789420 789421 789422\n",
      " 789501 789503 789520 789521 789522 789601 789603 789621 789622 789702\n",
      " 789703 789720 789721 789902 789903]\n",
      "Total customers in dim_targets_orders: 35\n",
      "The number of unique customers in dim_targets_orders: [789201 789202 789203 789301 789303 789101 789102 789103 789121 789122\n",
      " 789220 789221 789320 789321 789401 789402 789403 789420 789421 789422\n",
      " 789501 789503 789520 789521 789522 789601 789603 789702 789703 789621\n",
      " 789622 789720 789721 789902 789903]\n"
     ]
    }
   ],
   "source": [
    "# Find customer_id Present in One Table but Not in the Other\n",
    "# customer_id in dim_customer but not in dim_targets_orders\n",
    "only_dim_customer = set(dim_customers['customer_id']) - set(dim_targets_orders['customer_id'])\n",
    "print(f\"Number of unique customer IDs only in dim_customer: {len(only_dim_customer)}\")\n",
    "print(f\"{only_dim_customer}\")\n",
    "\n",
    "# customer_id in dim_targets_orders but not in dim_customer\n",
    "only_dim_targets_orders = set(dim_targets_orders['customer_id']) - set(dim_customers['customer_id'])\n",
    "print(f\"Number of unique customer IDs only in dim_targets_orders: {len(only_dim_targets_orders)}\")\n",
    "print(f\"{only_dim_targets_orders}\")\n",
    "\n",
    "# Validate Data Completeness\n",
    "## Compare the number of customers between the tables\n",
    "print(f\"Total customers in dim_customers: {dim_customers['customer_id'].count()}\")\n",
    "print(f\"The number of unique customers in dim_customers: {dim_customers['customer_id'].unique()}\")\n",
    "\n",
    "print(f\"Total customers in dim_targets_orders: {dim_targets_orders['customer_id'].count()}\")\n",
    "print(f\"The number of unique customers in dim_targets_orders: {dim_targets_orders['customer_id'].unique()}\")"
   ]
  },
  {
   "cell_type": "markdown",
   "metadata": {},
   "source": [
    "**Comment:**\n",
    "All checks passed, data is valid and consistent."
   ]
  },
  {
   "cell_type": "markdown",
   "metadata": {},
   "source": [
    "#### Sort Data\n",
    "After cleaning your data, sorting is essential for easier analysis."
   ]
  },
  {
   "cell_type": "code",
   "execution_count": 46,
   "metadata": {},
   "outputs": [],
   "source": [
    "# Sort the DataFrame by the specified column\n",
    "dim_targets_orders = dim_targets_orders.sort_values(by=['customer_id'], ascending=True).reset_index(drop=True)"
   ]
  },
  {
   "cell_type": "markdown",
   "metadata": {},
   "source": [
    "### \"dim_date\" DataFrame\n",
    "This [dataset](link_git_hub) contains the dates at daily, monthly level and week numbers of the year. There are 183 rows, 3 columns, and these variables: \n",
    "\n",
    "Variable    |   Description| \n",
    "-----|-----|\n",
    "date|date at the daily level\n",
    "mmm_yy|date at the monthly level\n",
    "week_no|week number of the year as per the date column"
   ]
  },
  {
   "cell_type": "markdown",
   "metadata": {},
   "source": [
    "#### Gather Basic Information About The Data"
   ]
  },
  {
   "cell_type": "code",
   "execution_count": 47,
   "metadata": {},
   "outputs": [
    {
     "name": "stdout",
     "output_type": "stream",
     "text": [
      "<class 'pandas.core.frame.DataFrame'>\n",
      "RangeIndex: 183 entries, 0 to 182\n",
      "Data columns (total 3 columns):\n",
      " #   Column   Non-Null Count  Dtype \n",
      "---  ------   --------------  ----- \n",
      " 0   date     183 non-null    object\n",
      " 1   mmm_yy   183 non-null    object\n",
      " 2   week_no  183 non-null    object\n",
      "dtypes: object(3)\n",
      "memory usage: 4.4+ KB\n"
     ]
    }
   ],
   "source": [
    "# gather basic information about the data\n",
    "dim_date.info()"
   ]
  },
  {
   "cell_type": "code",
   "execution_count": 48,
   "metadata": {},
   "outputs": [
    {
     "data": {
      "text/html": [
       "<div>\n",
       "<style scoped>\n",
       "    .dataframe tbody tr th:only-of-type {\n",
       "        vertical-align: middle;\n",
       "    }\n",
       "\n",
       "    .dataframe tbody tr th {\n",
       "        vertical-align: top;\n",
       "    }\n",
       "\n",
       "    .dataframe thead th {\n",
       "        text-align: right;\n",
       "    }\n",
       "</style>\n",
       "<table border=\"1\" class=\"dataframe\">\n",
       "  <thead>\n",
       "    <tr style=\"text-align: right;\">\n",
       "      <th></th>\n",
       "      <th>date</th>\n",
       "      <th>mmm_yy</th>\n",
       "      <th>week_no</th>\n",
       "    </tr>\n",
       "  </thead>\n",
       "  <tbody>\n",
       "    <tr>\n",
       "      <th>0</th>\n",
       "      <td>01-Apr-22</td>\n",
       "      <td>01-Apr-22</td>\n",
       "      <td>W 14</td>\n",
       "    </tr>\n",
       "  </tbody>\n",
       "</table>\n",
       "</div>"
      ],
      "text/plain": [
       "        date     mmm_yy week_no\n",
       "0  01-Apr-22  01-Apr-22    W 14"
      ]
     },
     "execution_count": 48,
     "metadata": {},
     "output_type": "execute_result"
    }
   ],
   "source": [
    "# top records\n",
    "dim_date.head(1)"
   ]
  },
  {
   "cell_type": "code",
   "execution_count": 49,
   "metadata": {},
   "outputs": [
    {
     "data": {
      "text/html": [
       "<div>\n",
       "<style scoped>\n",
       "    .dataframe tbody tr th:only-of-type {\n",
       "        vertical-align: middle;\n",
       "    }\n",
       "\n",
       "    .dataframe tbody tr th {\n",
       "        vertical-align: top;\n",
       "    }\n",
       "\n",
       "    .dataframe thead th {\n",
       "        text-align: right;\n",
       "    }\n",
       "</style>\n",
       "<table border=\"1\" class=\"dataframe\">\n",
       "  <thead>\n",
       "    <tr style=\"text-align: right;\">\n",
       "      <th></th>\n",
       "      <th>date</th>\n",
       "      <th>mmm_yy</th>\n",
       "      <th>week_no</th>\n",
       "    </tr>\n",
       "  </thead>\n",
       "  <tbody>\n",
       "    <tr>\n",
       "      <th>182</th>\n",
       "      <td>31-May-22</td>\n",
       "      <td>01-May-22</td>\n",
       "      <td>W 23</td>\n",
       "    </tr>\n",
       "  </tbody>\n",
       "</table>\n",
       "</div>"
      ],
      "text/plain": [
       "          date     mmm_yy week_no\n",
       "182  31-May-22  01-May-22    W 23"
      ]
     },
     "execution_count": 49,
     "metadata": {},
     "output_type": "execute_result"
    }
   ],
   "source": [
    "# last records\n",
    "dim_date.tail(1)"
   ]
  },
  {
   "cell_type": "markdown",
   "metadata": {},
   "source": [
    "#### Rename Columns"
   ]
  },
  {
   "cell_type": "code",
   "execution_count": 50,
   "metadata": {},
   "outputs": [
    {
     "data": {
      "text/plain": [
       "Index(['date', 'mmm_yy', 'week_no'], dtype='object')"
      ]
     },
     "execution_count": 50,
     "metadata": {},
     "output_type": "execute_result"
    }
   ],
   "source": [
    "# display all column names\n",
    "dim_date.columns"
   ]
  },
  {
   "cell_type": "markdown",
   "metadata": {},
   "source": [
    "**Comment:**\n",
    "Column names are already standardized to `snake_case` and do not require further modification."
   ]
  },
  {
   "cell_type": "markdown",
   "metadata": {},
   "source": [
    "#### Gather Descriptive Statistics About The Data"
   ]
  },
  {
   "cell_type": "code",
   "execution_count": 51,
   "metadata": {},
   "outputs": [
    {
     "data": {
      "text/html": [
       "<div>\n",
       "<style scoped>\n",
       "    .dataframe tbody tr th:only-of-type {\n",
       "        vertical-align: middle;\n",
       "    }\n",
       "\n",
       "    .dataframe tbody tr th {\n",
       "        vertical-align: top;\n",
       "    }\n",
       "\n",
       "    .dataframe thead th {\n",
       "        text-align: right;\n",
       "    }\n",
       "</style>\n",
       "<table border=\"1\" class=\"dataframe\">\n",
       "  <thead>\n",
       "    <tr style=\"text-align: right;\">\n",
       "      <th></th>\n",
       "      <th>count</th>\n",
       "      <th>unique</th>\n",
       "      <th>top</th>\n",
       "      <th>freq</th>\n",
       "    </tr>\n",
       "  </thead>\n",
       "  <tbody>\n",
       "    <tr>\n",
       "      <th>date</th>\n",
       "      <td>183</td>\n",
       "      <td>183</td>\n",
       "      <td>01-Apr-22</td>\n",
       "      <td>1</td>\n",
       "    </tr>\n",
       "    <tr>\n",
       "      <th>mmm_yy</th>\n",
       "      <td>183</td>\n",
       "      <td>6</td>\n",
       "      <td>01-Jul-22</td>\n",
       "      <td>31</td>\n",
       "    </tr>\n",
       "    <tr>\n",
       "      <th>week_no</th>\n",
       "      <td>183</td>\n",
       "      <td>27</td>\n",
       "      <td>W 14</td>\n",
       "      <td>7</td>\n",
       "    </tr>\n",
       "  </tbody>\n",
       "</table>\n",
       "</div>"
      ],
      "text/plain": [
       "        count unique        top freq\n",
       "date      183    183  01-Apr-22    1\n",
       "mmm_yy    183      6  01-Jul-22   31\n",
       "week_no   183     27       W 14    7"
      ]
     },
     "execution_count": 51,
     "metadata": {},
     "output_type": "execute_result"
    }
   ],
   "source": [
    "# gather descriptive statistics about the data\n",
    "dim_date.describe().T"
   ]
  },
  {
   "cell_type": "markdown",
   "metadata": {},
   "source": [
    "#### Check Data Types"
   ]
  },
  {
   "cell_type": "code",
   "execution_count": 52,
   "metadata": {},
   "outputs": [
    {
     "data": {
      "text/plain": [
       "date       object\n",
       "mmm_yy     object\n",
       "week_no    object\n",
       "dtype: object"
      ]
     },
     "execution_count": 52,
     "metadata": {},
     "output_type": "execute_result"
    }
   ],
   "source": [
    "# check for datatypes\n",
    "dim_date.dtypes"
   ]
  },
  {
   "cell_type": "code",
   "execution_count": 53,
   "metadata": {},
   "outputs": [
    {
     "name": "stderr",
     "output_type": "stream",
     "text": [
      "C:\\Users\\PC\\AppData\\Local\\Temp\\ipykernel_9672\\3238984166.py:2: UserWarning: Could not infer format, so each element will be parsed individually, falling back to `dateutil`. To ensure parsing is consistent and as-expected, please specify a format.\n",
      "  dim_date['date'] = pd.to_datetime(dim_date['date'])\n"
     ]
    }
   ],
   "source": [
    "# Transform Object Data Types to Date\n",
    "dim_date['date'] = pd.to_datetime(dim_date['date'])\n",
    "\n",
    "## Create a new column 'mmm-yy' based on the 'date' column\n",
    "dim_date['mmm_yy'] = dim_date['date'].dt.strftime('%b-%y')  # Format to mmm-yy"
   ]
  },
  {
   "cell_type": "markdown",
   "metadata": {},
   "source": [
    "#### Clean Text Data"
   ]
  },
  {
   "cell_type": "code",
   "execution_count": 54,
   "metadata": {},
   "outputs": [],
   "source": [
    "# list of text columns to clean\n",
    "date_text_list = dim_date.select_dtypes(include='object').columns.tolist()\n",
    "\n",
    "# remove spaces at the beginning and end of the string\n",
    "dim_date[date_text_list] = dim_date[date_text_list].apply(lambda x: x.str.strip())\n",
    "\n",
    "# convert text to lowercase\n",
    "dim_date[date_text_list] = dim_date[date_text_list].apply(lambda x: x.str.lower())\n",
    "\n",
    "# Replace spaces in 'week_no' with hyphens for consistency\n",
    "dim_date['week_no'] = dim_date['week_no'].str.replace(' ', '-')"
   ]
  },
  {
   "cell_type": "markdown",
   "metadata": {},
   "source": [
    "#### Check Missing Values"
   ]
  },
  {
   "cell_type": "code",
   "execution_count": 55,
   "metadata": {},
   "outputs": [
    {
     "data": {
      "text/plain": [
       "date       0\n",
       "mmm_yy     0\n",
       "week_no    0\n",
       "dtype: int64"
      ]
     },
     "execution_count": 55,
     "metadata": {},
     "output_type": "execute_result"
    }
   ],
   "source": [
    "# check for missing values\n",
    "dim_date.isnull().sum()"
   ]
  },
  {
   "cell_type": "markdown",
   "metadata": {},
   "source": [
    "**Comment:**\n",
    "No null values found in the column, all values are present."
   ]
  },
  {
   "cell_type": "markdown",
   "metadata": {},
   "source": [
    "#### Check Duplicate Values"
   ]
  },
  {
   "cell_type": "code",
   "execution_count": 56,
   "metadata": {},
   "outputs": [
    {
     "data": {
      "text/plain": [
       "0"
      ]
     },
     "execution_count": 56,
     "metadata": {},
     "output_type": "execute_result"
    }
   ],
   "source": [
    "# check for duplicates values\n",
    "dim_date.duplicated().sum()"
   ]
  },
  {
   "cell_type": "markdown",
   "metadata": {},
   "source": [
    "**Comment:**\n",
    "No duplicate values found in the column, all entries are unique."
   ]
  },
  {
   "cell_type": "markdown",
   "metadata": {},
   "source": [
    "#### Check Unique Values"
   ]
  },
  {
   "cell_type": "code",
   "execution_count": 57,
   "metadata": {},
   "outputs": [
    {
     "data": {
      "text/plain": [
       "date       183\n",
       "mmm_yy       6\n",
       "week_no     27\n",
       "dtype: int64"
      ]
     },
     "execution_count": 57,
     "metadata": {},
     "output_type": "execute_result"
    }
   ],
   "source": [
    "# check for unique values\n",
    "dim_date.nunique()"
   ]
  },
  {
   "cell_type": "code",
   "execution_count": 58,
   "metadata": {},
   "outputs": [
    {
     "name": "stdout",
     "output_type": "stream",
     "text": [
      "the start date is 2022-03-01 00:00:00\n",
      "the end date is 2022-08-30 00:00:00\n",
      "Missing dates: []\n"
     ]
    }
   ],
   "source": [
    "# Define the start and end date range\n",
    "print(f\"the start date is {dim_date['date'].min()}\")\n",
    "print(f\"the end date is {dim_date['date'].max()}\")\n",
    "\n",
    "# Create a list of all dates in the date range\n",
    "all_dates = pd.date_range(start=dim_date['date'].min(), end=dim_date['date'].max())\n",
    "\n",
    "# Get the list of existing dates in dim_date\n",
    "existing_dates = dim_date['date'].unique()\n",
    "\n",
    "# Find the missing dates\n",
    "missing_dates = set(all_dates) - set(existing_dates)\n",
    "\n",
    "# Print the results\n",
    "print(f\"Missing dates: {sorted(missing_dates)}\")"
   ]
  },
  {
   "cell_type": "code",
   "execution_count": 59,
   "metadata": {},
   "outputs": [
    {
     "name": "stdout",
     "output_type": "stream",
     "text": [
      "The number of unique values in the column is 6\n",
      "['apr-22' 'aug-22' 'jul-22' 'jun-22' 'mar-22' 'may-22']\n"
     ]
    }
   ],
   "source": [
    "# check unique values in the column\n",
    "print(f\"The number of unique values in the column is {dim_date['mmm_yy'].unique().shape[0]}\")\n",
    "print(f\"{dim_date['mmm_yy'].unique()}\")"
   ]
  },
  {
   "cell_type": "code",
   "execution_count": 60,
   "metadata": {},
   "outputs": [
    {
     "name": "stdout",
     "output_type": "stream",
     "text": [
      "The number of unique values in the column is 27\n",
      "['w-14' 'w-15' 'w-16' 'w-17' 'w-18' 'w-34' 'w-32' 'w-33' 'w-35' 'w-36'\n",
      " 'w-29' 'w-27' 'w-28' 'w-30' 'w-31' 'w-23' 'w-24' 'w-25' 'w-26' 'w-12'\n",
      " 'w-10' 'w-11' 'w-13' 'w-19' 'w-20' 'w-21' 'w-22']\n"
     ]
    }
   ],
   "source": [
    "# check unique values in the column\n",
    "print(f\"The number of unique values in the column is {dim_date['week_no'].unique().shape[0]}\")\n",
    "print(f\"{dim_date['week_no'].unique()}\")"
   ]
  },
  {
   "cell_type": "markdown",
   "metadata": {},
   "source": [
    "#### Sort Data\n",
    "After cleaning your data, sorting is essential for easier analysis."
   ]
  },
  {
   "cell_type": "code",
   "execution_count": 61,
   "metadata": {},
   "outputs": [],
   "source": [
    "# Sort the DataFrame by the specified column\n",
    "dim_date = dim_date.sort_values(by=['date'], ascending=True).reset_index(drop=True)"
   ]
  },
  {
   "cell_type": "markdown",
   "metadata": {},
   "source": [
    "### \"fact_orders_aggregate\" DataFrame\n",
    "This [dataset](link_git_hub) contains information about OnTime, InFull and OnTime Infull information aggregated at the order level per customer. There are 31729 rows, 6 columns, and these variables: \n",
    "\n",
    "Variable    |   Description| \n",
    "-----|-----|\n",
    "order_id|Unique ID for each order the customer placed\n",
    "customer_id|Unique ID that is given to each of the customers\n",
    "order_placement_date|It is the date when the customer placed the order\n",
    "on_time|'1' denotes the order is delviered on time. '0' denotes the order is not delivered on time.\n",
    "in_full|'1' denotes the order is delviered in full quantity. '0' denotes the order is not delivered in full quantity.\n",
    "otif|'1' denotes the order is delviered both on time and in full quantity. '0' denotes the order is either not delivered on time or not in full quantity."
   ]
  },
  {
   "cell_type": "markdown",
   "metadata": {},
   "source": [
    "#### Gather Basic Information About The Data"
   ]
  },
  {
   "cell_type": "code",
   "execution_count": 62,
   "metadata": {},
   "outputs": [
    {
     "name": "stdout",
     "output_type": "stream",
     "text": [
      "<class 'pandas.core.frame.DataFrame'>\n",
      "RangeIndex: 31729 entries, 0 to 31728\n",
      "Data columns (total 6 columns):\n",
      " #   Column                Non-Null Count  Dtype \n",
      "---  ------                --------------  ----- \n",
      " 0   order_id              31729 non-null  object\n",
      " 1   customer_id           31729 non-null  int64 \n",
      " 2   order_placement_date  31729 non-null  object\n",
      " 3   on_time               31729 non-null  int64 \n",
      " 4   in_full               31729 non-null  int64 \n",
      " 5   otif                  31729 non-null  int64 \n",
      "dtypes: int64(4), object(2)\n",
      "memory usage: 1.5+ MB\n"
     ]
    }
   ],
   "source": [
    "# gather basic information about the data\n",
    "fact_orders_aggregate.info()"
   ]
  },
  {
   "cell_type": "code",
   "execution_count": 63,
   "metadata": {},
   "outputs": [
    {
     "data": {
      "text/html": [
       "<div>\n",
       "<style scoped>\n",
       "    .dataframe tbody tr th:only-of-type {\n",
       "        vertical-align: middle;\n",
       "    }\n",
       "\n",
       "    .dataframe tbody tr th {\n",
       "        vertical-align: top;\n",
       "    }\n",
       "\n",
       "    .dataframe thead th {\n",
       "        text-align: right;\n",
       "    }\n",
       "</style>\n",
       "<table border=\"1\" class=\"dataframe\">\n",
       "  <thead>\n",
       "    <tr style=\"text-align: right;\">\n",
       "      <th></th>\n",
       "      <th>order_id</th>\n",
       "      <th>customer_id</th>\n",
       "      <th>order_placement_date</th>\n",
       "      <th>on_time</th>\n",
       "      <th>in_full</th>\n",
       "      <th>otif</th>\n",
       "    </tr>\n",
       "  </thead>\n",
       "  <tbody>\n",
       "    <tr>\n",
       "      <th>0</th>\n",
       "      <td>FMR32103503</td>\n",
       "      <td>789103</td>\n",
       "      <td>01-Mar-22</td>\n",
       "      <td>1</td>\n",
       "      <td>0</td>\n",
       "      <td>0</td>\n",
       "    </tr>\n",
       "  </tbody>\n",
       "</table>\n",
       "</div>"
      ],
      "text/plain": [
       "      order_id  customer_id order_placement_date  on_time  in_full  otif\n",
       "0  FMR32103503       789103            01-Mar-22        1        0     0"
      ]
     },
     "execution_count": 63,
     "metadata": {},
     "output_type": "execute_result"
    }
   ],
   "source": [
    "# top records\n",
    "fact_orders_aggregate.head(1)"
   ]
  },
  {
   "cell_type": "code",
   "execution_count": 64,
   "metadata": {},
   "outputs": [
    {
     "data": {
      "text/html": [
       "<div>\n",
       "<style scoped>\n",
       "    .dataframe tbody tr th:only-of-type {\n",
       "        vertical-align: middle;\n",
       "    }\n",
       "\n",
       "    .dataframe tbody tr th {\n",
       "        vertical-align: top;\n",
       "    }\n",
       "\n",
       "    .dataframe thead th {\n",
       "        text-align: right;\n",
       "    }\n",
       "</style>\n",
       "<table border=\"1\" class=\"dataframe\">\n",
       "  <thead>\n",
       "    <tr style=\"text-align: right;\">\n",
       "      <th></th>\n",
       "      <th>order_id</th>\n",
       "      <th>customer_id</th>\n",
       "      <th>order_placement_date</th>\n",
       "      <th>on_time</th>\n",
       "      <th>in_full</th>\n",
       "      <th>otif</th>\n",
       "    </tr>\n",
       "  </thead>\n",
       "  <tbody>\n",
       "    <tr>\n",
       "      <th>31728</th>\n",
       "      <td>FAUG831703602</td>\n",
       "      <td>789703</td>\n",
       "      <td>30-Aug-22</td>\n",
       "      <td>1</td>\n",
       "      <td>1</td>\n",
       "      <td>1</td>\n",
       "    </tr>\n",
       "  </tbody>\n",
       "</table>\n",
       "</div>"
      ],
      "text/plain": [
       "            order_id  customer_id order_placement_date  on_time  in_full  otif\n",
       "31728  FAUG831703602       789703            30-Aug-22        1        1     1"
      ]
     },
     "execution_count": 64,
     "metadata": {},
     "output_type": "execute_result"
    }
   ],
   "source": [
    "# last records\n",
    "fact_orders_aggregate.tail(1)"
   ]
  },
  {
   "cell_type": "markdown",
   "metadata": {},
   "source": [
    "#### Rename Columns"
   ]
  },
  {
   "cell_type": "code",
   "execution_count": 65,
   "metadata": {},
   "outputs": [
    {
     "data": {
      "text/plain": [
       "Index(['order_id', 'customer_id', 'order_placement_date', 'on_time', 'in_full',\n",
       "       'otif'],\n",
       "      dtype='object')"
      ]
     },
     "execution_count": 65,
     "metadata": {},
     "output_type": "execute_result"
    }
   ],
   "source": [
    "# display all column names\n",
    "fact_orders_aggregate.columns"
   ]
  },
  {
   "cell_type": "markdown",
   "metadata": {},
   "source": [
    "**Comment:**\n",
    "Column names are already standardized to `snake_case` and do not require further modification."
   ]
  },
  {
   "cell_type": "markdown",
   "metadata": {},
   "source": [
    "#### Gather Descriptive Statistics About The Data"
   ]
  },
  {
   "cell_type": "code",
   "execution_count": 66,
   "metadata": {},
   "outputs": [
    {
     "data": {
      "text/html": [
       "<div>\n",
       "<style scoped>\n",
       "    .dataframe tbody tr th:only-of-type {\n",
       "        vertical-align: middle;\n",
       "    }\n",
       "\n",
       "    .dataframe tbody tr th {\n",
       "        vertical-align: top;\n",
       "    }\n",
       "\n",
       "    .dataframe thead th {\n",
       "        text-align: right;\n",
       "    }\n",
       "</style>\n",
       "<table border=\"1\" class=\"dataframe\">\n",
       "  <thead>\n",
       "    <tr style=\"text-align: right;\">\n",
       "      <th></th>\n",
       "      <th>count</th>\n",
       "      <th>mean</th>\n",
       "      <th>std</th>\n",
       "      <th>min</th>\n",
       "      <th>25%</th>\n",
       "      <th>50%</th>\n",
       "      <th>75%</th>\n",
       "      <th>max</th>\n",
       "    </tr>\n",
       "  </thead>\n",
       "  <tbody>\n",
       "    <tr>\n",
       "      <th>customer_id</th>\n",
       "      <td>31729.0</td>\n",
       "      <td>789423.561285</td>\n",
       "      <td>219.103565</td>\n",
       "      <td>789101.0</td>\n",
       "      <td>789220.0</td>\n",
       "      <td>789420.0</td>\n",
       "      <td>789601.0</td>\n",
       "      <td>789903.0</td>\n",
       "    </tr>\n",
       "    <tr>\n",
       "      <th>on_time</th>\n",
       "      <td>31729.0</td>\n",
       "      <td>0.590312</td>\n",
       "      <td>0.491784</td>\n",
       "      <td>0.0</td>\n",
       "      <td>0.0</td>\n",
       "      <td>1.0</td>\n",
       "      <td>1.0</td>\n",
       "      <td>1.0</td>\n",
       "    </tr>\n",
       "    <tr>\n",
       "      <th>in_full</th>\n",
       "      <td>31729.0</td>\n",
       "      <td>0.527814</td>\n",
       "      <td>0.499234</td>\n",
       "      <td>0.0</td>\n",
       "      <td>0.0</td>\n",
       "      <td>1.0</td>\n",
       "      <td>1.0</td>\n",
       "      <td>1.0</td>\n",
       "    </tr>\n",
       "    <tr>\n",
       "      <th>otif</th>\n",
       "      <td>31729.0</td>\n",
       "      <td>0.290208</td>\n",
       "      <td>0.453865</td>\n",
       "      <td>0.0</td>\n",
       "      <td>0.0</td>\n",
       "      <td>0.0</td>\n",
       "      <td>1.0</td>\n",
       "      <td>1.0</td>\n",
       "    </tr>\n",
       "  </tbody>\n",
       "</table>\n",
       "</div>"
      ],
      "text/plain": [
       "               count           mean         std       min       25%       50%  \\\n",
       "customer_id  31729.0  789423.561285  219.103565  789101.0  789220.0  789420.0   \n",
       "on_time      31729.0       0.590312    0.491784       0.0       0.0       1.0   \n",
       "in_full      31729.0       0.527814    0.499234       0.0       0.0       1.0   \n",
       "otif         31729.0       0.290208    0.453865       0.0       0.0       0.0   \n",
       "\n",
       "                  75%       max  \n",
       "customer_id  789601.0  789903.0  \n",
       "on_time           1.0       1.0  \n",
       "in_full           1.0       1.0  \n",
       "otif              1.0       1.0  "
      ]
     },
     "execution_count": 66,
     "metadata": {},
     "output_type": "execute_result"
    }
   ],
   "source": [
    "# gather descriptive statistics about the data\n",
    "fact_orders_aggregate.describe().T"
   ]
  },
  {
   "cell_type": "markdown",
   "metadata": {},
   "source": [
    "#### Check Data Types"
   ]
  },
  {
   "cell_type": "code",
   "execution_count": 67,
   "metadata": {},
   "outputs": [
    {
     "data": {
      "text/plain": [
       "order_id                object\n",
       "customer_id              int64\n",
       "order_placement_date    object\n",
       "on_time                  int64\n",
       "in_full                  int64\n",
       "otif                     int64\n",
       "dtype: object"
      ]
     },
     "execution_count": 67,
     "metadata": {},
     "output_type": "execute_result"
    }
   ],
   "source": [
    "# check for datatypes\n",
    "fact_orders_aggregate.dtypes"
   ]
  },
  {
   "cell_type": "code",
   "execution_count": 68,
   "metadata": {},
   "outputs": [
    {
     "name": "stderr",
     "output_type": "stream",
     "text": [
      "C:\\Users\\PC\\AppData\\Local\\Temp\\ipykernel_9672\\2186241718.py:2: UserWarning: Could not infer format, so each element will be parsed individually, falling back to `dateutil`. To ensure parsing is consistent and as-expected, please specify a format.\n",
      "  fact_orders_aggregate['order_placement_date'] = pd.to_datetime(fact_orders_aggregate['order_placement_date'])\n"
     ]
    }
   ],
   "source": [
    "# Transform Object Data Types to Date\n",
    "fact_orders_aggregate['order_placement_date'] = pd.to_datetime(fact_orders_aggregate['order_placement_date'])"
   ]
  },
  {
   "cell_type": "markdown",
   "metadata": {},
   "source": [
    "#### Clean Text Data"
   ]
  },
  {
   "cell_type": "code",
   "execution_count": 69,
   "metadata": {},
   "outputs": [],
   "source": [
    "# list of text columns to clean\n",
    "aggregate_text_list = fact_orders_aggregate.select_dtypes(include='object').columns.tolist()\n",
    "\n",
    "# remove spaces at the beginning and end of the string\n",
    "fact_orders_aggregate[aggregate_text_list] = fact_orders_aggregate[aggregate_text_list].apply(lambda x: x.str.strip())\n",
    "\n",
    "# convert text to lowercase\n",
    "fact_orders_aggregate[aggregate_text_list] = fact_orders_aggregate[aggregate_text_list].apply(lambda x: x.str.lower())"
   ]
  },
  {
   "cell_type": "markdown",
   "metadata": {},
   "source": [
    "#### Check Primary Key Columns"
   ]
  },
  {
   "cell_type": "code",
   "execution_count": 70,
   "metadata": {},
   "outputs": [
    {
     "name": "stdout",
     "output_type": "stream",
     "text": [
      "The number of null values in the Key Identifier column is 0\n",
      "The number of duplicated values in the Key Identifier column is 0\n",
      "The number of unique values in the Key Identifier column is 31729\n",
      "['fmr32103503' 'fmr34103403' 'fmr32103602' ... 'faug831122203'\n",
      " 'faug831303403' 'faug831703602']\n"
     ]
    }
   ],
   "source": [
    "# check the number of null values in the key identifier column\n",
    "print(f\"The number of null values in the Key Identifier column is {fact_orders_aggregate['order_id'].isnull().sum()}\")\n",
    "# check the number of duplicated values in the key identifier column\n",
    "print(f\"The number of duplicated values in the Key Identifier column is {fact_orders_aggregate['order_id'].duplicated().sum()}\")\n",
    "# Check the unique values in the Key Identifier column\n",
    "print(f\"The number of unique values in the Key Identifier column is {fact_orders_aggregate['order_id'].unique().shape[0]}\")\n",
    "print(f\"{fact_orders_aggregate['order_id'].unique()}\")"
   ]
  },
  {
   "cell_type": "markdown",
   "metadata": {},
   "source": [
    "**Comment:**\n",
    "Key Identifier is valid, no modifications required."
   ]
  },
  {
   "cell_type": "markdown",
   "metadata": {},
   "source": [
    "#### Check Missing Values"
   ]
  },
  {
   "cell_type": "code",
   "execution_count": 71,
   "metadata": {},
   "outputs": [
    {
     "data": {
      "text/plain": [
       "order_id                0\n",
       "customer_id             0\n",
       "order_placement_date    0\n",
       "on_time                 0\n",
       "in_full                 0\n",
       "otif                    0\n",
       "dtype: int64"
      ]
     },
     "execution_count": 71,
     "metadata": {},
     "output_type": "execute_result"
    }
   ],
   "source": [
    "# check for missing values\n",
    "fact_orders_aggregate.isnull().sum()"
   ]
  },
  {
   "cell_type": "markdown",
   "metadata": {},
   "source": [
    "**Comment:**\n",
    "No null values found in the column, all values are present."
   ]
  },
  {
   "cell_type": "markdown",
   "metadata": {},
   "source": [
    "#### Check Duplicate Values"
   ]
  },
  {
   "cell_type": "code",
   "execution_count": 72,
   "metadata": {},
   "outputs": [
    {
     "data": {
      "text/plain": [
       "0"
      ]
     },
     "execution_count": 72,
     "metadata": {},
     "output_type": "execute_result"
    }
   ],
   "source": [
    "# check for duplicates values\n",
    "fact_orders_aggregate.duplicated().sum()"
   ]
  },
  {
   "cell_type": "markdown",
   "metadata": {},
   "source": [
    "**Comment:**\n",
    "No duplicate values found in the column, all entries are unique."
   ]
  },
  {
   "cell_type": "markdown",
   "metadata": {},
   "source": [
    "#### Check Unique Values"
   ]
  },
  {
   "cell_type": "code",
   "execution_count": 73,
   "metadata": {},
   "outputs": [
    {
     "data": {
      "text/plain": [
       "order_id                31729\n",
       "customer_id                35\n",
       "order_placement_date      183\n",
       "on_time                     2\n",
       "in_full                     2\n",
       "otif                        2\n",
       "dtype: int64"
      ]
     },
     "execution_count": 73,
     "metadata": {},
     "output_type": "execute_result"
    }
   ],
   "source": [
    "# check for unique values\n",
    "fact_orders_aggregate.nunique()"
   ]
  },
  {
   "cell_type": "code",
   "execution_count": 74,
   "metadata": {},
   "outputs": [
    {
     "name": "stdout",
     "output_type": "stream",
     "text": [
      "the start date is 2022-03-01 00:00:00\n",
      "the end date is 2022-08-30 00:00:00\n",
      "Missing dates: []\n"
     ]
    }
   ],
   "source": [
    "# Define the start and end date range\n",
    "print(f\"the start date is {fact_orders_aggregate['order_placement_date'].min()}\")\n",
    "print(f\"the end date is {fact_orders_aggregate['order_placement_date'].max()}\")\n",
    "\n",
    "# Find the missing dates\n",
    "missing_dates = set(dim_date['date'].unique()) - set(fact_orders_aggregate['order_placement_date'].unique())\n",
    "\n",
    "# Print the results\n",
    "print(f\"Missing dates: {sorted(missing_dates)}\")"
   ]
  },
  {
   "cell_type": "code",
   "execution_count": 75,
   "metadata": {},
   "outputs": [
    {
     "name": "stdout",
     "output_type": "stream",
     "text": [
      "The number of unique values in the column is 2\n",
      "[1 0]\n"
     ]
    }
   ],
   "source": [
    "# check unique values in the column\n",
    "print(f\"The number of unique values in the column is {fact_orders_aggregate['on_time'].unique().shape[0]}\")\n",
    "print(f\"{fact_orders_aggregate['on_time'].unique()}\")"
   ]
  },
  {
   "cell_type": "code",
   "execution_count": 76,
   "metadata": {},
   "outputs": [
    {
     "name": "stdout",
     "output_type": "stream",
     "text": [
      "The number of unique values in the column is 2\n",
      "[0 1]\n"
     ]
    }
   ],
   "source": [
    "# check unique values in the column\n",
    "print(f\"The number of unique values in the column is {fact_orders_aggregate['in_full'].unique().shape[0]}\")\n",
    "print(f\"{fact_orders_aggregate['in_full'].unique()}\")"
   ]
  },
  {
   "cell_type": "code",
   "execution_count": 77,
   "metadata": {},
   "outputs": [
    {
     "name": "stdout",
     "output_type": "stream",
     "text": [
      "The number of unique values in the column is 2\n",
      "[0 1]\n"
     ]
    }
   ],
   "source": [
    "# check unique values in the column\n",
    "print(f\"The number of unique values in the column is {fact_orders_aggregate['otif'].unique().shape[0]}\")\n",
    "print(f\"{fact_orders_aggregate['otif'].unique()}\")"
   ]
  },
  {
   "cell_type": "markdown",
   "metadata": {},
   "source": [
    "#### Check Foreign Key Columns"
   ]
  },
  {
   "cell_type": "code",
   "execution_count": 78,
   "metadata": {},
   "outputs": [
    {
     "name": "stdout",
     "output_type": "stream",
     "text": [
      "Number of unique customer IDs only in dim_customer: 0\n",
      "set()\n",
      "Number of unique customer IDs only in fact_orders_aggregate: 0\n",
      "set()\n",
      "Total customers in dim_customers: 35\n",
      "The number of unique customers in dim_customers: 35\n",
      "Total customers in fact_orders_aggregate: 31729\n",
      "The number of unique customers in fact_orders_aggregate: 35\n"
     ]
    }
   ],
   "source": [
    "# Find customer_id Present in One Table but Not in the Other\n",
    "# customer_id in dim_customer but not in fact_orders_aggregate\n",
    "only_dim_customer = set(dim_customers['customer_id']) - set(fact_orders_aggregate['customer_id'])\n",
    "print(f\"Number of unique customer IDs only in dim_customer: {len(only_dim_customer)}\")\n",
    "print(f\"{only_dim_customer}\")\n",
    "\n",
    "# customer_id in fact_orders_aggregate but not in dim_customer\n",
    "only_fact_orders_aggregate = set(fact_orders_aggregate['customer_id']) - set(dim_customers['customer_id'])\n",
    "print(f\"Number of unique customer IDs only in fact_orders_aggregate: {len(only_fact_orders_aggregate)}\")\n",
    "print(f\"{only_fact_orders_aggregate}\")\n",
    "\n",
    "# Validate Data Completeness\n",
    "## Compare the number of customers between the tables\n",
    "print(f\"Total customers in dim_customers: {dim_customers['customer_id'].count()}\")\n",
    "print(f\"The number of unique customers in dim_customers: {dim_customers['customer_id'].nunique()}\")\n",
    "\n",
    "print(f\"Total customers in fact_orders_aggregate: {fact_orders_aggregate['customer_id'].count()}\")\n",
    "print(f\"The number of unique customers in fact_orders_aggregate: {dim_customers['customer_id'].nunique()}\")"
   ]
  },
  {
   "cell_type": "markdown",
   "metadata": {},
   "source": [
    "**Comment:**\n",
    "All checks passed, data is valid and consistent."
   ]
  },
  {
   "cell_type": "markdown",
   "metadata": {},
   "source": [
    "#### Sort Data\n",
    "After cleaning your data, sorting is essential for easier analysis."
   ]
  },
  {
   "cell_type": "code",
   "execution_count": 79,
   "metadata": {},
   "outputs": [],
   "source": [
    "# Sort the DataFrame by the specified column\n",
    "fact_orders_aggregate = fact_orders_aggregate.sort_values(by=['order_placement_date','order_id'], ascending=True).reset_index(drop=True)"
   ]
  },
  {
   "cell_type": "markdown",
   "metadata": {},
   "source": [
    "### \"fact_order_lines\" DataFrame\n",
    "This [dataset](link_git_hub) contains all information about orders and each item inside the orders. There are 57096 rows, 8 columns, and these variables: \n",
    "\n",
    "Variable    |   Description| \n",
    "-----|-----|\n",
    "order_id|Unique ID for each order the customer placed\n",
    "order_placement_date|It is the date when the customer placed the order\n",
    "customer_id|Unique ID that is given to each of the customers\n",
    "product_id|Unique ID that is given to each of the products\n",
    "order_qty|It is the number of products requested by the customer to be delivered\n",
    "agreed_delivery_date|It is the date agreed between the customer and Atliq Mart to deliver the products\n",
    "actual_delivery_date|It is the actual date Atliq Mart delivered the product to the customer\n",
    "delivered_qty|It is the number of products that are actually delivered to the customer"
   ]
  },
  {
   "cell_type": "markdown",
   "metadata": {},
   "source": [
    "#### Gather Basic Information About The Data"
   ]
  },
  {
   "cell_type": "code",
   "execution_count": 80,
   "metadata": {},
   "outputs": [
    {
     "name": "stdout",
     "output_type": "stream",
     "text": [
      "<class 'pandas.core.frame.DataFrame'>\n",
      "RangeIndex: 57096 entries, 0 to 57095\n",
      "Data columns (total 8 columns):\n",
      " #   Column                Non-Null Count  Dtype \n",
      "---  ------                --------------  ----- \n",
      " 0   order_id              57096 non-null  object\n",
      " 1   order_placement_date  57096 non-null  object\n",
      " 2   customer_id           57096 non-null  int64 \n",
      " 3   product_id            57096 non-null  int64 \n",
      " 4   order_qty             57096 non-null  int64 \n",
      " 5   agreed_delivery_date  57096 non-null  object\n",
      " 6   actual_delivery_date  57096 non-null  object\n",
      " 7   delivery_qty          57096 non-null  int64 \n",
      "dtypes: int64(4), object(4)\n",
      "memory usage: 3.5+ MB\n"
     ]
    }
   ],
   "source": [
    "# gather basic information about the data\n",
    "fact_order_lines.info()"
   ]
  },
  {
   "cell_type": "code",
   "execution_count": 81,
   "metadata": {},
   "outputs": [
    {
     "data": {
      "text/html": [
       "<div>\n",
       "<style scoped>\n",
       "    .dataframe tbody tr th:only-of-type {\n",
       "        vertical-align: middle;\n",
       "    }\n",
       "\n",
       "    .dataframe tbody tr th {\n",
       "        vertical-align: top;\n",
       "    }\n",
       "\n",
       "    .dataframe thead th {\n",
       "        text-align: right;\n",
       "    }\n",
       "</style>\n",
       "<table border=\"1\" class=\"dataframe\">\n",
       "  <thead>\n",
       "    <tr style=\"text-align: right;\">\n",
       "      <th></th>\n",
       "      <th>order_id</th>\n",
       "      <th>order_placement_date</th>\n",
       "      <th>customer_id</th>\n",
       "      <th>product_id</th>\n",
       "      <th>order_qty</th>\n",
       "      <th>agreed_delivery_date</th>\n",
       "      <th>actual_delivery_date</th>\n",
       "      <th>delivery_qty</th>\n",
       "    </tr>\n",
       "  </thead>\n",
       "  <tbody>\n",
       "    <tr>\n",
       "      <th>0</th>\n",
       "      <td>FMR34203601</td>\n",
       "      <td>Tuesday, March 1, 2022</td>\n",
       "      <td>789203</td>\n",
       "      <td>25891601</td>\n",
       "      <td>110</td>\n",
       "      <td>Friday, March 4, 2022</td>\n",
       "      <td>Friday, March 4, 2022</td>\n",
       "      <td>110</td>\n",
       "    </tr>\n",
       "  </tbody>\n",
       "</table>\n",
       "</div>"
      ],
      "text/plain": [
       "      order_id    order_placement_date  customer_id  product_id  order_qty  \\\n",
       "0  FMR34203601  Tuesday, March 1, 2022       789203    25891601        110   \n",
       "\n",
       "    agreed_delivery_date   actual_delivery_date  delivery_qty  \n",
       "0  Friday, March 4, 2022  Friday, March 4, 2022           110  "
      ]
     },
     "execution_count": 81,
     "metadata": {},
     "output_type": "execute_result"
    }
   ],
   "source": [
    "# top records\n",
    "fact_order_lines.head(1)"
   ]
  },
  {
   "cell_type": "code",
   "execution_count": 82,
   "metadata": {},
   "outputs": [
    {
     "data": {
      "text/html": [
       "<div>\n",
       "<style scoped>\n",
       "    .dataframe tbody tr th:only-of-type {\n",
       "        vertical-align: middle;\n",
       "    }\n",
       "\n",
       "    .dataframe tbody tr th {\n",
       "        vertical-align: top;\n",
       "    }\n",
       "\n",
       "    .dataframe thead th {\n",
       "        text-align: right;\n",
       "    }\n",
       "</style>\n",
       "<table border=\"1\" class=\"dataframe\">\n",
       "  <thead>\n",
       "    <tr style=\"text-align: right;\">\n",
       "      <th></th>\n",
       "      <th>order_id</th>\n",
       "      <th>order_placement_date</th>\n",
       "      <th>customer_id</th>\n",
       "      <th>product_id</th>\n",
       "      <th>order_qty</th>\n",
       "      <th>agreed_delivery_date</th>\n",
       "      <th>actual_delivery_date</th>\n",
       "      <th>delivery_qty</th>\n",
       "    </tr>\n",
       "  </thead>\n",
       "  <tbody>\n",
       "    <tr>\n",
       "      <th>57095</th>\n",
       "      <td>FAUG831202303</td>\n",
       "      <td>Tuesday, August 30, 2022</td>\n",
       "      <td>789202</td>\n",
       "      <td>25891303</td>\n",
       "      <td>29</td>\n",
       "      <td>Wednesday, August 31, 2022</td>\n",
       "      <td>Thursday, September 1, 2022</td>\n",
       "      <td>29</td>\n",
       "    </tr>\n",
       "  </tbody>\n",
       "</table>\n",
       "</div>"
      ],
      "text/plain": [
       "            order_id      order_placement_date  customer_id  product_id  \\\n",
       "57095  FAUG831202303  Tuesday, August 30, 2022       789202    25891303   \n",
       "\n",
       "       order_qty        agreed_delivery_date         actual_delivery_date  \\\n",
       "57095         29  Wednesday, August 31, 2022  Thursday, September 1, 2022   \n",
       "\n",
       "       delivery_qty  \n",
       "57095            29  "
      ]
     },
     "execution_count": 82,
     "metadata": {},
     "output_type": "execute_result"
    }
   ],
   "source": [
    "# last records\n",
    "fact_order_lines.tail(1)"
   ]
  },
  {
   "cell_type": "markdown",
   "metadata": {},
   "source": [
    "#### Rename Columns"
   ]
  },
  {
   "cell_type": "code",
   "execution_count": 83,
   "metadata": {},
   "outputs": [
    {
     "data": {
      "text/plain": [
       "Index(['order_id', 'order_placement_date', 'customer_id', 'product_id',\n",
       "       'order_qty', 'agreed_delivery_date', 'actual_delivery_date',\n",
       "       'delivery_qty'],\n",
       "      dtype='object')"
      ]
     },
     "execution_count": 83,
     "metadata": {},
     "output_type": "execute_result"
    }
   ],
   "source": [
    "# display all column names\n",
    "fact_order_lines.columns"
   ]
  },
  {
   "cell_type": "markdown",
   "metadata": {},
   "source": [
    "**Comment:**\n",
    "Column names are already standardized to `snake_case` and do not require further modification."
   ]
  },
  {
   "cell_type": "markdown",
   "metadata": {},
   "source": [
    "#### Gather Descriptive Statistics About The Data"
   ]
  },
  {
   "cell_type": "code",
   "execution_count": 84,
   "metadata": {},
   "outputs": [
    {
     "data": {
      "text/html": [
       "<div>\n",
       "<style scoped>\n",
       "    .dataframe tbody tr th:only-of-type {\n",
       "        vertical-align: middle;\n",
       "    }\n",
       "\n",
       "    .dataframe tbody tr th {\n",
       "        vertical-align: top;\n",
       "    }\n",
       "\n",
       "    .dataframe thead th {\n",
       "        text-align: right;\n",
       "    }\n",
       "</style>\n",
       "<table border=\"1\" class=\"dataframe\">\n",
       "  <thead>\n",
       "    <tr style=\"text-align: right;\">\n",
       "      <th></th>\n",
       "      <th>count</th>\n",
       "      <th>mean</th>\n",
       "      <th>std</th>\n",
       "      <th>min</th>\n",
       "      <th>25%</th>\n",
       "      <th>50%</th>\n",
       "      <th>75%</th>\n",
       "      <th>max</th>\n",
       "    </tr>\n",
       "  </thead>\n",
       "  <tbody>\n",
       "    <tr>\n",
       "      <th>customer_id</th>\n",
       "      <td>57096.0</td>\n",
       "      <td>7.894272e+05</td>\n",
       "      <td>224.254353</td>\n",
       "      <td>789101.0</td>\n",
       "      <td>789220.0</td>\n",
       "      <td>789420.0</td>\n",
       "      <td>789603.0</td>\n",
       "      <td>789903.0</td>\n",
       "    </tr>\n",
       "    <tr>\n",
       "      <th>product_id</th>\n",
       "      <td>57096.0</td>\n",
       "      <td>2.589135e+07</td>\n",
       "      <td>170.701793</td>\n",
       "      <td>25891101.0</td>\n",
       "      <td>25891202.0</td>\n",
       "      <td>25891303.0</td>\n",
       "      <td>25891502.0</td>\n",
       "      <td>25891603.0</td>\n",
       "    </tr>\n",
       "    <tr>\n",
       "      <th>order_qty</th>\n",
       "      <td>57096.0</td>\n",
       "      <td>2.351642e+02</td>\n",
       "      <td>141.001784</td>\n",
       "      <td>20.0</td>\n",
       "      <td>111.0</td>\n",
       "      <td>207.0</td>\n",
       "      <td>361.0</td>\n",
       "      <td>500.0</td>\n",
       "    </tr>\n",
       "    <tr>\n",
       "      <th>delivery_qty</th>\n",
       "      <td>57096.0</td>\n",
       "      <td>2.271465e+02</td>\n",
       "      <td>137.109465</td>\n",
       "      <td>16.0</td>\n",
       "      <td>106.0</td>\n",
       "      <td>200.0</td>\n",
       "      <td>347.0</td>\n",
       "      <td>500.0</td>\n",
       "    </tr>\n",
       "  </tbody>\n",
       "</table>\n",
       "</div>"
      ],
      "text/plain": [
       "                count          mean         std         min         25%  \\\n",
       "customer_id   57096.0  7.894272e+05  224.254353    789101.0    789220.0   \n",
       "product_id    57096.0  2.589135e+07  170.701793  25891101.0  25891202.0   \n",
       "order_qty     57096.0  2.351642e+02  141.001784        20.0       111.0   \n",
       "delivery_qty  57096.0  2.271465e+02  137.109465        16.0       106.0   \n",
       "\n",
       "                     50%         75%         max  \n",
       "customer_id     789420.0    789603.0    789903.0  \n",
       "product_id    25891303.0  25891502.0  25891603.0  \n",
       "order_qty          207.0       361.0       500.0  \n",
       "delivery_qty       200.0       347.0       500.0  "
      ]
     },
     "execution_count": 84,
     "metadata": {},
     "output_type": "execute_result"
    }
   ],
   "source": [
    "# gather descriptive statistics about the data\n",
    "fact_order_lines.describe().T"
   ]
  },
  {
   "cell_type": "markdown",
   "metadata": {},
   "source": [
    "#### Check Data Types"
   ]
  },
  {
   "cell_type": "code",
   "execution_count": 85,
   "metadata": {},
   "outputs": [
    {
     "data": {
      "text/plain": [
       "order_id                object\n",
       "order_placement_date    object\n",
       "customer_id              int64\n",
       "product_id               int64\n",
       "order_qty                int64\n",
       "agreed_delivery_date    object\n",
       "actual_delivery_date    object\n",
       "delivery_qty             int64\n",
       "dtype: object"
      ]
     },
     "execution_count": 85,
     "metadata": {},
     "output_type": "execute_result"
    }
   ],
   "source": [
    "# check for datatypes\n",
    "fact_order_lines.dtypes"
   ]
  },
  {
   "cell_type": "code",
   "execution_count": 86,
   "metadata": {},
   "outputs": [],
   "source": [
    "# Transform Object Data Types to Date\n",
    "fact_order_lines[['order_placement_date', 'agreed_delivery_date', 'actual_delivery_date']] = fact_order_lines[['order_placement_date', 'agreed_delivery_date', 'actual_delivery_date']].apply(pd.to_datetime)"
   ]
  },
  {
   "cell_type": "markdown",
   "metadata": {},
   "source": [
    "#### Clean Text Data"
   ]
  },
  {
   "cell_type": "code",
   "execution_count": 87,
   "metadata": {},
   "outputs": [],
   "source": [
    "# list of text columns to clean\n",
    "line_text_list = fact_order_lines.select_dtypes(include='object').columns.tolist()\n",
    "\n",
    "# remove spaces at the beginning and end of the string\n",
    "fact_order_lines[line_text_list] = fact_order_lines[line_text_list].apply(lambda x: x.str.strip())\n",
    "\n",
    "# convert text to lowercase\n",
    "fact_order_lines[line_text_list] = fact_order_lines[line_text_list].apply(lambda x: x.str.lower())"
   ]
  },
  {
   "cell_type": "markdown",
   "metadata": {},
   "source": [
    "#### Check Missing Values"
   ]
  },
  {
   "cell_type": "code",
   "execution_count": 88,
   "metadata": {},
   "outputs": [
    {
     "data": {
      "text/plain": [
       "order_id                0\n",
       "order_placement_date    0\n",
       "customer_id             0\n",
       "product_id              0\n",
       "order_qty               0\n",
       "agreed_delivery_date    0\n",
       "actual_delivery_date    0\n",
       "delivery_qty            0\n",
       "dtype: int64"
      ]
     },
     "execution_count": 88,
     "metadata": {},
     "output_type": "execute_result"
    }
   ],
   "source": [
    "# check for missing values\n",
    "fact_order_lines.isnull().sum()"
   ]
  },
  {
   "cell_type": "markdown",
   "metadata": {},
   "source": [
    "**Comment:**\n",
    "No null values found in the column, all values are present."
   ]
  },
  {
   "cell_type": "markdown",
   "metadata": {},
   "source": [
    "#### Check Duplicate Values"
   ]
  },
  {
   "cell_type": "code",
   "execution_count": 89,
   "metadata": {},
   "outputs": [
    {
     "data": {
      "text/plain": [
       "0"
      ]
     },
     "execution_count": 89,
     "metadata": {},
     "output_type": "execute_result"
    }
   ],
   "source": [
    "# check for duplicates values\n",
    "fact_order_lines.duplicated().sum()"
   ]
  },
  {
   "cell_type": "markdown",
   "metadata": {},
   "source": [
    "**Comment:**\n",
    "No duplicate values found in the column, all entries are unique."
   ]
  },
  {
   "cell_type": "markdown",
   "metadata": {},
   "source": [
    "#### Check Unique Values"
   ]
  },
  {
   "cell_type": "code",
   "execution_count": 90,
   "metadata": {},
   "outputs": [
    {
     "data": {
      "text/plain": [
       "order_id                31729\n",
       "order_placement_date      183\n",
       "customer_id                35\n",
       "product_id                 18\n",
       "order_qty                 481\n",
       "agreed_delivery_date      183\n",
       "actual_delivery_date      187\n",
       "delivery_qty              485\n",
       "dtype: int64"
      ]
     },
     "execution_count": 90,
     "metadata": {},
     "output_type": "execute_result"
    }
   ],
   "source": [
    "# check for unique values\n",
    "fact_order_lines.nunique()"
   ]
  },
  {
   "cell_type": "code",
   "execution_count": 91,
   "metadata": {},
   "outputs": [
    {
     "name": "stdout",
     "output_type": "stream",
     "text": [
      "the start date is 2022-03-01 00:00:00\n",
      "the end date is 2022-08-30 00:00:00\n",
      "Missing dates: []\n",
      "Missing order placement date: []\n"
     ]
    }
   ],
   "source": [
    "# Define the start and end date range\n",
    "print(f\"the start date is {fact_order_lines['order_placement_date'].min()}\")\n",
    "print(f\"the end date is {fact_order_lines['order_placement_date'].max()}\")\n",
    "\n",
    "# Find the missing dates\n",
    "missing_dates = set(dim_date['date'].unique()) - set(fact_order_lines['order_placement_date'].unique())\n",
    "# Find the missing dates\n",
    "missing_order_dates = set(fact_order_lines['order_placement_date'].unique()) - set(dim_date['date'].unique())\n",
    "\n",
    "# Print the results\n",
    "print(f\"Missing dates: {sorted(missing_dates)}\")\n",
    "print(f\"Missing order placement date: {sorted(missing_order_dates)}\")"
   ]
  },
  {
   "cell_type": "code",
   "execution_count": 92,
   "metadata": {},
   "outputs": [
    {
     "name": "stdout",
     "output_type": "stream",
     "text": [
      "the start date is 2022-03-02 00:00:00\n",
      "the end date is 2022-08-31 00:00:00\n",
      "Missing dates: [Timestamp('2022-03-01 00:00:00')]\n",
      "Missing agreed dates: [Timestamp('2022-08-31 00:00:00')]\n"
     ]
    }
   ],
   "source": [
    "# Define the start and end date range\n",
    "print(f\"the start date is {fact_order_lines['agreed_delivery_date'].min()}\")\n",
    "print(f\"the end date is {fact_order_lines['agreed_delivery_date'].max()}\")\n",
    "\n",
    "# Find the missing dates\n",
    "missing_dates = set(dim_date['date'].unique()) - set(fact_order_lines['agreed_delivery_date'].unique())\n",
    "# Find the missing dates\n",
    "missing_agreed_dates = set(fact_order_lines['agreed_delivery_date'].unique()) - set(dim_date['date'].unique())\n",
    "\n",
    "# Print the results\n",
    "print(f\"Missing dates: {sorted(missing_dates)}\")\n",
    "print(f\"Missing agreed dates: {sorted(missing_agreed_dates)}\")"
   ]
  },
  {
   "cell_type": "code",
   "execution_count": 93,
   "metadata": {},
   "outputs": [
    {
     "name": "stdout",
     "output_type": "stream",
     "text": [
      "the start date is 2022-03-01 00:00:00\n",
      "the end date is 2022-09-03 00:00:00\n",
      "Missing dates: []\n",
      "Missing actual dates: [Timestamp('2022-08-31 00:00:00'), Timestamp('2022-09-01 00:00:00'), Timestamp('2022-09-02 00:00:00'), Timestamp('2022-09-03 00:00:00')]\n"
     ]
    }
   ],
   "source": [
    "# Define the start and end date range\n",
    "print(f\"the start date is {fact_order_lines['actual_delivery_date'].min()}\")\n",
    "print(f\"the end date is {fact_order_lines['actual_delivery_date'].max()}\")\n",
    "\n",
    "# Find the missing dates\n",
    "missing_dates = set(dim_date['date'].unique()) - set(fact_order_lines['actual_delivery_date'].unique())\n",
    "# Find the missing dates\n",
    "missing_actual_dates = set(fact_order_lines['actual_delivery_date'].unique()) - set(dim_date['date'].unique())\n",
    "\n",
    "# Print the results\n",
    "print(f\"Missing dates: {sorted(missing_dates)}\")\n",
    "print(f\"Missing actual dates: {sorted(missing_actual_dates)}\")"
   ]
  },
  {
   "cell_type": "markdown",
   "metadata": {},
   "source": [
    "#### Check Foreign Key Columns"
   ]
  },
  {
   "cell_type": "code",
   "execution_count": 94,
   "metadata": {},
   "outputs": [
    {
     "name": "stdout",
     "output_type": "stream",
     "text": [
      "Number of unique order IDs only in fact_orders_aggregate: 0\n",
      "set()\n",
      "Number of unique order IDs only in fact_order_lines: 0\n",
      "set()\n",
      "Total order in fact_orders_aggregate: 31729\n",
      "The number of unique order in fact_orders_aggregate: 31729\n",
      "Total order in fact_order_lines: 57096\n",
      "The number of unique order in fact_order_lines: 31729\n"
     ]
    }
   ],
   "source": [
    "# Find order_id Present in One Table but Not in the Other\n",
    "# order_id in fact_orders_aggregate but not in fact_order_lines\n",
    "only_fact_orders_aggregate = set(fact_orders_aggregate['order_id']) - set(fact_order_lines['order_id'])\n",
    "print(f\"Number of unique order IDs only in fact_orders_aggregate: {len(only_fact_orders_aggregate)}\")\n",
    "print(f\"{only_fact_orders_aggregate}\")\n",
    "\n",
    "# order_id in fact_order_lines but not in fact_orders_aggregate\n",
    "only_fact_order_lines = set(fact_order_lines['order_id']) - set(fact_orders_aggregate['order_id'])\n",
    "print(f\"Number of unique order IDs only in fact_order_lines: {len(only_fact_order_lines)}\")\n",
    "print(f\"{only_fact_order_lines}\")\n",
    "\n",
    "# Validate Data Completeness\n",
    "## Compare the number of customers between the tables\n",
    "print(f\"Total order in fact_orders_aggregate: {fact_orders_aggregate['order_id'].count()}\")\n",
    "print(f\"The number of unique order in fact_orders_aggregate: {fact_orders_aggregate['order_id'].nunique()}\")\n",
    "\n",
    "print(f\"Total order in fact_order_lines: {fact_order_lines['order_id'].count()}\")\n",
    "print(f\"The number of unique order in fact_order_lines: {fact_order_lines['order_id'].nunique()}\")"
   ]
  },
  {
   "cell_type": "code",
   "execution_count": 95,
   "metadata": {},
   "outputs": [
    {
     "name": "stdout",
     "output_type": "stream",
     "text": [
      "Number of unique customer IDs only in dim_customer: 0\n",
      "set()\n",
      "Number of unique customer IDs only in fact_order_lines: 0\n",
      "set()\n",
      "Total customers in dim_customers: 35\n",
      "The number of unique customers in dim_customers: 35\n",
      "Total customers in fact_order_lines: 57096\n",
      "The number of unique customers in fact_order_lines: 35\n"
     ]
    }
   ],
   "source": [
    "# Find customer_id Present in One Table but Not in the Other\n",
    "# customer_id in dim_customer but not in fact_order_lines\n",
    "only_dim_customer = set(dim_customers['customer_id']) - set(fact_order_lines['customer_id'])\n",
    "print(f\"Number of unique customer IDs only in dim_customer: {len(only_dim_customer)}\")\n",
    "print(f\"{only_dim_customer}\")\n",
    "\n",
    "# customer_id in fact_orders_aggregate but not in dim_customer\n",
    "only_fact_order_lines = set(fact_order_lines['customer_id']) - set(dim_customers['customer_id'])\n",
    "print(f\"Number of unique customer IDs only in fact_order_lines: {len(only_fact_order_lines)}\")\n",
    "print(f\"{only_fact_order_lines}\")\n",
    "\n",
    "# Validate Data Completeness\n",
    "## Compare the number of customers between the tables\n",
    "print(f\"Total customers in dim_customers: {dim_customers['customer_id'].count()}\")\n",
    "print(f\"The number of unique customers in dim_customers: {dim_customers['customer_id'].nunique()}\")\n",
    "\n",
    "print(f\"Total customers in fact_order_lines: {fact_order_lines['customer_id'].count()}\")\n",
    "print(f\"The number of unique customers in fact_order_lines: {fact_order_lines['customer_id'].nunique()}\")"
   ]
  },
  {
   "cell_type": "code",
   "execution_count": 96,
   "metadata": {},
   "outputs": [
    {
     "name": "stdout",
     "output_type": "stream",
     "text": [
      "Number of unique product IDs only in dim_products: 0\n",
      "set()\n",
      "Number of unique product IDs only in fact_order_lines: 0\n",
      "set()\n",
      "Total product in dim_products: 18\n",
      "The number of unique product in dim_products: 18\n",
      "Total product in fact_order_lines: 57096\n",
      "The number of unique product in fact_order_lines: 18\n"
     ]
    }
   ],
   "source": [
    "# Find product_id Present in One Table but Not in the Other\n",
    "# product_id in dim_products but not in fact_order_lines\n",
    "only_dim_products = set(dim_products['product_id']) - set(fact_order_lines['product_id'])\n",
    "print(f\"Number of unique product IDs only in dim_products: {len(only_dim_products)}\")\n",
    "print(f\"{only_dim_products}\")\n",
    "\n",
    "# product_id in fact_order_lines but not in dim_products\n",
    "only_fact_order_lines = set(fact_order_lines['product_id']) - set(dim_products['product_id'])\n",
    "print(f\"Number of unique product IDs only in fact_order_lines: {len(only_fact_order_lines)}\")\n",
    "print(f\"{only_fact_order_lines}\")\n",
    "\n",
    "# Validate Data Completeness\n",
    "## Compare the number of customers between the tables\n",
    "print(f\"Total product in dim_products: {dim_products['product_id'].count()}\")\n",
    "print(f\"The number of unique product in dim_products: {dim_products['product_id'].nunique()}\")\n",
    "\n",
    "print(f\"Total product in fact_order_lines: {fact_order_lines['product_id'].count()}\")\n",
    "print(f\"The number of unique product in fact_order_lines: {fact_order_lines['product_id'].nunique()}\")"
   ]
  },
  {
   "cell_type": "markdown",
   "metadata": {},
   "source": [
    "#### Outlier Detection"
   ]
  },
  {
   "cell_type": "code",
   "execution_count": 97,
   "metadata": {},
   "outputs": [],
   "source": [
    "# determine the number of rows containing outliers\n",
    "def check_outlier(df, column):\n",
    "    \"\"\"\n",
    "    Check and identify outliers in a specified column of a DataFrame.\n",
    "\n",
    "    Args:\n",
    "        df (pd.DataFrame): The DataFrame containing the data to be checked.\n",
    "        column (str): The name of the column in the DataFrame to check for outliers.\n",
    "\n",
    "    Returns:\n",
    "        pd.DataFrame: A DataFrame containing statistical indices, including:\n",
    "            - lower_bound (float): The lower limit to identify outliers.\n",
    "            - upper_bound (float): The upper limit to identify outliers.\n",
    "            - total_outliers (int): The total number of outlier values in the column.\n",
    "            - percent_outliers (float): The percentage of outlier values in the column.\n",
    "\n",
    "    Notes:\n",
    "        Outliers are identified based on the inter-quartile range (IQR) of the data.\n",
    "        Values falling outside the lower and upper thresholds are considered outliers.\n",
    "    \"\"\"\n",
    "\n",
    "    # Compute the 25th percentile values\n",
    "    Q1 = df[column].quantile(0.25)\n",
    "    # Compute the 75th percentile values\n",
    "    Q3 = df[column].quantile(0.75)\n",
    "    # Compute the inter-quartile range (IQR)\n",
    "    IQR = Q3 - Q1\n",
    "\n",
    "    # Define lower and upper thresholds to identify outliers\n",
    "    lower_limit = Q1 - 1.5 * IQR # Lower threshold\n",
    "    upper_limit = Q3 + 1.5 * IQR # Upper threshold\n",
    "\n",
    "    # Calculate the total row of data\n",
    "    total_row = df.shape[0]\n",
    "    # Calculate the total number of outliers\n",
    "    total_outlier = (df[df[column] > upper_limit].shape[0]) + (df[df[column] < lower_limit].shape[0])\n",
    "    # Calculate the percentage of outliers\n",
    "    percent_outlier = round(((df[df[column] > upper_limit].shape[0]) + (df[df[column] < lower_limit].shape[0])) / df.shape[0] * 100, 2)\n",
    "    \n",
    "    # Create a DataFrame containing statistical indices\n",
    "    result = pd.DataFrame({\n",
    "        'lower_bound': [lower_limit],\n",
    "        'upper_bound': [upper_limit],\n",
    "        'total_row': [total_row],\n",
    "        'outlier_row':[total_outlier],\n",
    "        'outliers_pct': [percent_outlier]\n",
    "    })\n",
    "\n",
    "    # returns the calculated values\n",
    "    return result"
   ]
  },
  {
   "cell_type": "code",
   "execution_count": 98,
   "metadata": {},
   "outputs": [
    {
     "data": {
      "image/png": "[encoded data removed]",
      "text/plain": [
       "<Figure size 1600x600 with 2 Axes>"
      ]
     },
     "metadata": {},
     "output_type": "display_data"
    },
    {
     "name": "stdout",
     "output_type": "stream",
     "text": [
      "The Skew of Sold Quantity Data is: 0.3\n"
     ]
    }
   ],
   "source": [
    "# Create a BoxPlot and HistPlot to visualize distribution of 'ev_sold' and detect any outliers\n",
    "# set the size of chart\n",
    "plt.figure(figsize=(16,6))\n",
    "# first subplot by box plot\n",
    "plt.subplot(1,2,1)\n",
    "plt.grid()\n",
    "sns.boxplot(data=fact_order_lines, x='order_qty', color='#DC5F00')\n",
    "plt.title(\"Distribution by BoxPlot\")\n",
    "# second subplot by hist plot\n",
    "plt.subplot(1,2,2)\n",
    "plt.grid()\n",
    "sns.histplot(data=fact_order_lines, x='order_qty', color='#DC5F00')\n",
    "plt.title(\"Distribution by HistPlot\")\n",
    "# Display the chart\n",
    "plt.show()\n",
    "# Check the skewness of data in the \"ev_sold\" column\n",
    "print(f\"The Skew of Sold Quantity Data is: {round(fact_order_lines['order_qty'].skew(), 2)}\")"
   ]
  },
  {
   "cell_type": "markdown",
   "metadata": {},
   "source": [
    "**Comment:**\n",
    "The data shows a skew of 0.3, indicating a slightly skewed but acceptable distribution. No significant outliers were detected, so the data is considered suitable for further analysis."
   ]
  },
  {
   "cell_type": "code",
   "execution_count": 99,
   "metadata": {},
   "outputs": [
    {
     "data": {
      "image/png": "[encoded data removed]",
      "text/plain": [
       "<Figure size 1600x600 with 2 Axes>"
      ]
     },
     "metadata": {},
     "output_type": "display_data"
    },
    {
     "name": "stdout",
     "output_type": "stream",
     "text": [
      "The Skew of Sold Quantity Data is: 0.3\n"
     ]
    }
   ],
   "source": [
    "# Create a BoxPlot and HistPlot to visualize distribution of 'ev_sold' and detect any outliers\n",
    "# set the size of chart\n",
    "plt.figure(figsize=(16,6))\n",
    "# first subplot by box plot\n",
    "plt.subplot(1,2,1)\n",
    "plt.grid()\n",
    "sns.boxplot(data=fact_order_lines, x='delivery_qty', color='#DC5F00')\n",
    "plt.title(\"Distribution by BoxPlot\")\n",
    "# second subplot by hist plot\n",
    "plt.subplot(1,2,2)\n",
    "plt.grid()\n",
    "sns.histplot(data=fact_order_lines, x='delivery_qty', color='#DC5F00')\n",
    "plt.title(\"Distribution by HistPlot\")\n",
    "# Display the chart\n",
    "plt.show()\n",
    "# Check the skewness of data in the \"ev_sold\" column\n",
    "print(f\"The Skew of Sold Quantity Data is: {round(fact_order_lines['order_qty'].skew(), 2)}\")"
   ]
  },
  {
   "cell_type": "markdown",
   "metadata": {},
   "source": [
    "**Comment:**\n",
    "The data shows a skew of 0.3, indicating a slightly skewed but acceptable distribution. No significant outliers were detected, so the data is considered suitable for further analysis."
   ]
  },
  {
   "cell_type": "markdown",
   "metadata": {},
   "source": [
    "#### Data Validity Check: Delivery Quantities"
   ]
  },
  {
   "cell_type": "code",
   "execution_count": 100,
   "metadata": {},
   "outputs": [
    {
     "name": "stdout",
     "output_type": "stream",
     "text": [
      "Number of order with delivered in full is 37661, percentage: 65.96%\n",
      "Number of orders with discrepancies in delivery is 19435, percentage: 34.04%\n"
     ]
    }
   ],
   "source": [
    "# Filter orders where ordered quantity matches delivered quantity. This helps identify orders that have been delivered in full\n",
    "full_delivery = fact_order_lines[fact_order_lines['order_qty'] == fact_order_lines['delivery_qty']]\n",
    "# print the number of orders with delivered in full\n",
    "print(f\"Number of order with delivered in full is {full_delivery.shape[0]}, percentage: {round(full_delivery.shape[0] / fact_order_lines.shape[0] * 100,2)}%\")\n",
    "\n",
    "# Filter orders where ordered quantity does not match delivered quantity. This helps identify orders that have discrepancies in delivery\n",
    "not_full_delivery = fact_order_lines[fact_order_lines['order_qty'] != fact_order_lines['delivery_qty']]\n",
    "# Print the number of orders with discrepancies in delivery\n",
    "print(f\"Number of orders with discrepancies in delivery is {not_full_delivery.shape[0]}, percentage: {round(not_full_delivery.shape[0] / fact_order_lines.shape[0] * 100,2)}%\")"
   ]
  },
  {
   "cell_type": "code",
   "execution_count": 101,
   "metadata": {},
   "outputs": [
    {
     "name": "stdout",
     "output_type": "stream",
     "text": [
      "Number of order with delivery_qty is greater than order_qty: 0\n",
      "Percentage of orders over-delivered (delivery_qty > order_qty): 0.0%\n"
     ]
    }
   ],
   "source": [
    "# Filter orders where delivery_qty is greater than order_qty\n",
    "over_qty = not_full_delivery[not_full_delivery['delivery_qty'] > not_full_delivery['order_qty']]\n",
    "# print the number of orders with delivery_qty is greater than order_qty\n",
    "print(f\"Number of order with delivery_qty is greater than order_qty: {over_qty.shape[0]}\")\n",
    "# Calculate the percentage of these orders\n",
    "print(f'Percentage of orders over-delivered (delivery_qty > order_qty): {round(over_qty.shape[0] / fact_order_lines.shape[0],2)}%')"
   ]
  },
  {
   "cell_type": "code",
   "execution_count": 102,
   "metadata": {},
   "outputs": [
    {
     "name": "stdout",
     "output_type": "stream",
     "text": [
      "Number of order with delivery_qty is less than order_qty: 19435\n",
      "Percentage of orders under-delivered (delivery_qty < order_qty): 34.04%\n"
     ]
    }
   ],
   "source": [
    "# Filter orders where delivery_qty is less than order_qty\n",
    "under_qty = not_full_delivery[not_full_delivery['delivery_qty'] < not_full_delivery['order_qty']]\n",
    "# print the number of orders with delivery_qty is less than order_qty\n",
    "print(f\"Number of order with delivery_qty is less than order_qty: {under_qty.shape[0]}\")\n",
    "# Calculate the percentage of these orders\n",
    "print(f'Percentage of orders under-delivered (delivery_qty < order_qty): {round(under_qty.shape[0] / fact_order_lines.shape[0] * 100,2)}%')"
   ]
  },
  {
   "cell_type": "code",
   "execution_count": 103,
   "metadata": {},
   "outputs": [
    {
     "name": "stdout",
     "output_type": "stream",
     "text": [
      "The minimum quantity difference is 1\n",
      "The maximum quantity difference is 100\n"
     ]
    },
    {
     "name": "stderr",
     "output_type": "stream",
     "text": [
      "C:\\Users\\PC\\AppData\\Local\\Temp\\ipykernel_9672\\796531141.py:2: SettingWithCopyWarning: \n",
      "A value is trying to be set on a copy of a slice from a DataFrame.\n",
      "Try using .loc[row_indexer,col_indexer] = value instead\n",
      "\n",
      "See the caveats in the documentation: https://pandas.pydata.org/pandas-docs/stable/user_guide/indexing.html#returning-a-view-versus-a-copy\n",
      "  not_full_delivery['difference_qty'] = not_full_delivery['order_qty'] - not_full_delivery['delivery_qty']\n"
     ]
    }
   ],
   "source": [
    "# Calculate the difference between order_qty and delivery_qty\n",
    "not_full_delivery['difference_qty'] = not_full_delivery['order_qty'] - not_full_delivery['delivery_qty']\n",
    "# find the minimum difference\n",
    "print(f\"The minimum quantity difference is {not_full_delivery['difference_qty'].min()}\")\n",
    "# find the maximum difference\n",
    "print(f\"The maximum quantity difference is {not_full_delivery['difference_qty'].max()}\")"
   ]
  },
  {
   "cell_type": "code",
   "execution_count": 104,
   "metadata": {},
   "outputs": [],
   "source": [
    "# Create the 'in_full' column using a lambda function\n",
    "fact_order_lines['in_full'] = fact_order_lines.apply(lambda row: 1 if row['order_qty'] <= row['delivery_qty'] else 0, axis=1)"
   ]
  },
  {
   "cell_type": "markdown",
   "metadata": {},
   "source": [
    "#### Data Validity Check: Delivery Date"
   ]
  },
  {
   "cell_type": "code",
   "execution_count": 105,
   "metadata": {},
   "outputs": [
    {
     "name": "stdout",
     "output_type": "stream",
     "text": [
      "The number of invalid delivery dates is 0\n"
     ]
    },
    {
     "data": {
      "text/html": [
       "<div>\n",
       "<style scoped>\n",
       "    .dataframe tbody tr th:only-of-type {\n",
       "        vertical-align: middle;\n",
       "    }\n",
       "\n",
       "    .dataframe tbody tr th {\n",
       "        vertical-align: top;\n",
       "    }\n",
       "\n",
       "    .dataframe thead th {\n",
       "        text-align: right;\n",
       "    }\n",
       "</style>\n",
       "<table border=\"1\" class=\"dataframe\">\n",
       "  <thead>\n",
       "    <tr style=\"text-align: right;\">\n",
       "      <th></th>\n",
       "      <th>order_id</th>\n",
       "      <th>order_placement_date</th>\n",
       "      <th>customer_id</th>\n",
       "      <th>product_id</th>\n",
       "      <th>order_qty</th>\n",
       "      <th>agreed_delivery_date</th>\n",
       "      <th>actual_delivery_date</th>\n",
       "      <th>delivery_qty</th>\n",
       "      <th>in_full</th>\n",
       "    </tr>\n",
       "  </thead>\n",
       "  <tbody>\n",
       "  </tbody>\n",
       "</table>\n",
       "</div>"
      ],
      "text/plain": [
       "Empty DataFrame\n",
       "Columns: [order_id, order_placement_date, customer_id, product_id, order_qty, agreed_delivery_date, actual_delivery_date, delivery_qty, in_full]\n",
       "Index: []"
      ]
     },
     "execution_count": 105,
     "metadata": {},
     "output_type": "execute_result"
    }
   ],
   "source": [
    "# Check for invalid delivery dates\n",
    "invalid_delivery_dates = fact_order_lines[\n",
    "    (fact_order_lines['agreed_delivery_date'] < fact_order_lines['order_placement_date']) |\n",
    "    (fact_order_lines['actual_delivery_date'] < fact_order_lines['order_placement_date'])\n",
    "]\n",
    "# Display for invalid delivery dates\n",
    "print(f\"The number of invalid delivery dates is {invalid_delivery_dates.shape[0]}\")\n",
    "invalid_delivery_dates"
   ]
  },
  {
   "cell_type": "code",
   "execution_count": 106,
   "metadata": {},
   "outputs": [
    {
     "name": "stdout",
     "output_type": "stream",
     "text": [
      "Number of order with delivered on time is 36998, percentage: 64.8%\n",
      "Number of order with delivered not on time is 20098, percentage: 35.2%\n"
     ]
    }
   ],
   "source": [
    "# Filter for orders delivered on time\n",
    "on_time_delivery = fact_order_lines[fact_order_lines['actual_delivery_date'] == fact_order_lines['agreed_delivery_date']]\n",
    "# print the number of orders with delivered on time\n",
    "print(f\"Number of order with delivered on time is {on_time_delivery.shape[0]}, percentage: {round(on_time_delivery.shape[0] / fact_order_lines.shape[0] * 100,2)}%\")\n",
    "\n",
    "# Filter for orders delivered on time\n",
    "not_on_time_delivery = fact_order_lines[fact_order_lines['actual_delivery_date'] != fact_order_lines['agreed_delivery_date']]\n",
    "# print the number of orders with delivered on time\n",
    "print(f\"Number of order with delivered not on time is {not_on_time_delivery.shape[0]}, percentage: {round(not_on_time_delivery.shape[0] / fact_order_lines.shape[0] * 100,2)}%\")"
   ]
  },
  {
   "cell_type": "code",
   "execution_count": 107,
   "metadata": {},
   "outputs": [
    {
     "name": "stdout",
     "output_type": "stream",
     "text": [
      "Number of order with actual_delivery_date is greater than agreed_delivery_date: 16491\n",
      "Percentage of orders late-delivered (actual_delivery_date > agreed_delivery_date): 28.88%\n"
     ]
    }
   ],
   "source": [
    "# Filter orders where actual_delivery_date is greater than agreed_delivery_date\n",
    "lately_delivery = not_on_time_delivery[not_on_time_delivery['actual_delivery_date'] > not_on_time_delivery['agreed_delivery_date']]\n",
    "# print the number of orders with delivery_qty is greater than order_qty\n",
    "print(f\"Number of order with actual_delivery_date is greater than agreed_delivery_date: {lately_delivery.shape[0]}\")\n",
    "# Calculate the percentage of these orders\n",
    "print(f'Percentage of orders late-delivered (actual_delivery_date > agreed_delivery_date): {round(lately_delivery.shape[0] / fact_order_lines.shape[0] * 100,2)}%')"
   ]
  },
  {
   "cell_type": "code",
   "execution_count": 108,
   "metadata": {},
   "outputs": [
    {
     "name": "stdout",
     "output_type": "stream",
     "text": [
      "Number of order with actual_delivery_date is less than agreed_delivery_date: 3607\n",
      "Percentage of orders early-delivered (actual_delivery_date < agreed_delivery_date): 6.32%\n"
     ]
    }
   ],
   "source": [
    "# Filter orders where actual_delivery_date is less than agreed_delivery_date\n",
    "early_delivery = not_on_time_delivery[not_on_time_delivery['actual_delivery_date'] < not_on_time_delivery['agreed_delivery_date']]\n",
    "# print the number of orders with delivery_qty is greater than order_qty\n",
    "print(f\"Number of order with actual_delivery_date is less than agreed_delivery_date: {early_delivery.shape[0]}\")\n",
    "# Calculate the percentage of these orders\n",
    "print(f'Percentage of orders early-delivered (actual_delivery_date < agreed_delivery_date): {round(early_delivery.shape[0] / fact_order_lines.shape[0] * 100,2)}%')"
   ]
  },
  {
   "cell_type": "code",
   "execution_count": 109,
   "metadata": {},
   "outputs": [
    {
     "name": "stdout",
     "output_type": "stream",
     "text": [
      "The minimum lately date is 1 days 00:00:00\n",
      "The maximum lately date is 3 days 00:00:00\n",
      "The minimum early date is 1 days 00:00:00\n",
      "The maximum early date is 1 days 00:00:00\n"
     ]
    },
    {
     "name": "stderr",
     "output_type": "stream",
     "text": [
      "C:\\Users\\PC\\AppData\\Local\\Temp\\ipykernel_9672\\1934239690.py:2: SettingWithCopyWarning: \n",
      "A value is trying to be set on a copy of a slice from a DataFrame.\n",
      "Try using .loc[row_indexer,col_indexer] = value instead\n",
      "\n",
      "See the caveats in the documentation: https://pandas.pydata.org/pandas-docs/stable/user_guide/indexing.html#returning-a-view-versus-a-copy\n",
      "  not_on_time_delivery['difference_date'] = not_on_time_delivery['actual_delivery_date'] - not_on_time_delivery['agreed_delivery_date']\n"
     ]
    }
   ],
   "source": [
    "# Calculate the difference between actual_delivery_date and agreed_delivery_date\n",
    "not_on_time_delivery['difference_date'] = not_on_time_delivery['actual_delivery_date'] - not_on_time_delivery['agreed_delivery_date']\n",
    "# find The minimum lately date\n",
    "print(f\"The minimum lately date is {not_on_time_delivery[not_on_time_delivery['difference_date']>pd.Timedelta(0)]['difference_date'].min()}\")\n",
    "# find the maximum lately date\n",
    "print(f\"The maximum lately date is {not_on_time_delivery[not_on_time_delivery['difference_date']>pd.Timedelta(0)]['difference_date'].max()}\")\n",
    "# find the minimum early date\n",
    "print(f\"The minimum early date is {abs(not_on_time_delivery[not_on_time_delivery['difference_date']<pd.Timedelta(0)]['difference_date'].min())}\")\n",
    "# find the maximum early date\n",
    "print(f\"The maximum early date is {abs(not_on_time_delivery[not_on_time_delivery['difference_date']<pd.Timedelta(0)]['difference_date'].max())}\")"
   ]
  },
  {
   "cell_type": "code",
   "execution_count": 110,
   "metadata": {},
   "outputs": [],
   "source": [
    "# Create the 'on_time' column using a lambda function\n",
    "fact_order_lines['on_time'] = fact_order_lines.apply(lambda row: 1 if row['actual_delivery_date'] <= row['agreed_delivery_date'] else 0, axis=1)"
   ]
  },
  {
   "cell_type": "code",
   "execution_count": 111,
   "metadata": {},
   "outputs": [],
   "source": [
    "# create the 'otif' with condition from 'on_time' and 'in_full' columns using a lambda function\n",
    "fact_order_lines['otif'] = fact_order_lines.apply(lambda x: 1 if x['on_time'] == 1 and x['in_full'] == 1 else 0, axis=1)"
   ]
  },
  {
   "cell_type": "markdown",
   "metadata": {},
   "source": [
    "#### Sort Data\n",
    "After cleaning your data, sorting is essential for easier analysis."
   ]
  },
  {
   "cell_type": "code",
   "execution_count": 112,
   "metadata": {},
   "outputs": [],
   "source": [
    "# Sort the DataFrame by the specified column\n",
    "fact_order_lines = fact_order_lines.sort_values(by=['order_placement_date','order_id','customer_id','product_id'], ascending=True).reset_index(drop=True)"
   ]
  },
  {
   "cell_type": "markdown",
   "metadata": {},
   "source": [
    "## Saving Cleaned Data"
   ]
  },
  {
   "cell_type": "code",
   "execution_count": 113,
   "metadata": {},
   "outputs": [],
   "source": [
    "# customers information\n",
    "dim_customers.to_csv(\"C:/Users/PC/Downloads/AtliQ_Mart-Supply_Chain_Improvement_Project/data/processed/dim_customers.csv\", index=False)\n",
    "# dimension date\n",
    "dim_date.to_csv(\"C:/Users/PC/Downloads/AtliQ_Mart-Supply_Chain_Improvement_Project/data/processed/dim_date.csv\", index=False)\n",
    "# products information\n",
    "dim_products.to_csv(\"C:/Users/PC/Downloads/AtliQ_Mart-Supply_Chain_Improvement_Project/data/processed/dim_products.csv\", index=False)\n",
    "# dimension target orders\n",
    "dim_targets_orders.to_csv(\"C:/Users/PC/Downloads/AtliQ_Mart-Supply_Chain_Improvement_Project/data/processed/dim_targets_orders.csv\", index=False)\n",
    "# fact order lines\n",
    "fact_order_lines.to_csv(\"C:/Users/PC/Downloads/AtliQ_Mart-Supply_Chain_Improvement_Project/data/processed/fact_order_lines.csv\", index=False)\n",
    "# fact orders aggregate\n",
    "fact_orders_aggregate.to_csv(\"C:/Users/PC/Downloads/AtliQ_Mart-Supply_Chain_Improvement_Project/data/processed/fact_orders_aggregate.csv\", index=False)"
   ]
  },
  {
   "cell_type": "markdown",
   "metadata": {},
   "source": [
    "# END!"
   ]
  }
 ],
 "metadata": {
  "kernelspec": {
   "display_name": "Python 3",
   "language": "python",
   "name": "python3"
  },
  "language_info": {
   "codemirror_mode": {
    "name": "ipython",
    "version": 3
   },
   "file_extension": ".py",
   "mimetype": "text/x-python",
   "name": "python",
   "nbconvert_exporter": "python",
   "pygments_lexer": "ipython3",
   "version": "3.11.4"
  }
 },
 "nbformat": 4,
 "nbformat_minor": 2
}
